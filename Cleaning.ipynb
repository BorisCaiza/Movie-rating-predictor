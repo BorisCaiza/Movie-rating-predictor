{
  "nbformat": 4,
  "nbformat_minor": 0,
  "metadata": {
    "colab": {
      "name": "ProyectoBorisCaiza.ipynb",
      "provenance": []
    },
    "kernelspec": {
      "name": "python3",
      "display_name": "Python 3"
    },
    "language_info": {
      "name": "python"
    }
  },
  "cells": [
    {
      "cell_type": "code",
      "execution_count": null,
      "metadata": {
        "id": "fCOmLHua6pkq",
        "colab": {
          "base_uri": "https://localhost:8080/"
        },
        "outputId": "908b7541-7343-43e1-9ec8-706ec912ca6a"
      },
      "outputs": [
        {
          "output_type": "stream",
          "name": "stdout",
          "text": [
            "Drive already mounted at /content/drive; to attempt to forcibly remount, call drive.mount(\"/content/drive\", force_remount=True).\n"
          ]
        }
      ],
      "source": [
        "from google.colab import drive\n",
        "drive.mount('/content/drive')"
      ]
    },
    {
      "cell_type": "code",
      "source": [
        "!pip install fancyimpute"
      ],
      "metadata": {
        "id": "2Cun6eit9RDd",
        "colab": {
          "base_uri": "https://localhost:8080/"
        },
        "outputId": "0e5f6bb3-b510-4a61-f67f-59700117d0d2"
      },
      "execution_count": null,
      "outputs": [
        {
          "output_type": "stream",
          "name": "stdout",
          "text": [
            "Requirement already satisfied: fancyimpute in /usr/local/lib/python3.7/dist-packages (0.7.0)\n",
            "Requirement already satisfied: scikit-learn>=0.24.2 in /usr/local/lib/python3.7/dist-packages (from fancyimpute) (1.0.2)\n",
            "Requirement already satisfied: pytest in /usr/local/lib/python3.7/dist-packages (from fancyimpute) (3.6.4)\n",
            "Requirement already satisfied: knnimpute>=0.1.0 in /usr/local/lib/python3.7/dist-packages (from fancyimpute) (0.1.0)\n",
            "Requirement already satisfied: cvxopt in /usr/local/lib/python3.7/dist-packages (from fancyimpute) (1.2.7)\n",
            "Requirement already satisfied: cvxpy in /usr/local/lib/python3.7/dist-packages (from fancyimpute) (1.0.31)\n",
            "Requirement already satisfied: nose in /usr/local/lib/python3.7/dist-packages (from fancyimpute) (1.3.7)\n",
            "Requirement already satisfied: six in /usr/local/lib/python3.7/dist-packages (from knnimpute>=0.1.0->fancyimpute) (1.15.0)\n",
            "Requirement already satisfied: numpy>=1.10 in /usr/local/lib/python3.7/dist-packages (from knnimpute>=0.1.0->fancyimpute) (1.21.5)\n",
            "Requirement already satisfied: scipy>=1.1.0 in /usr/local/lib/python3.7/dist-packages (from scikit-learn>=0.24.2->fancyimpute) (1.4.1)\n",
            "Requirement already satisfied: threadpoolctl>=2.0.0 in /usr/local/lib/python3.7/dist-packages (from scikit-learn>=0.24.2->fancyimpute) (3.1.0)\n",
            "Requirement already satisfied: joblib>=0.11 in /usr/local/lib/python3.7/dist-packages (from scikit-learn>=0.24.2->fancyimpute) (1.1.0)\n",
            "Requirement already satisfied: ecos>=2 in /usr/local/lib/python3.7/dist-packages (from cvxpy->fancyimpute) (2.0.10)\n",
            "Requirement already satisfied: scs>=1.1.3 in /usr/local/lib/python3.7/dist-packages (from cvxpy->fancyimpute) (3.2.0)\n",
            "Requirement already satisfied: multiprocess in /usr/local/lib/python3.7/dist-packages (from cvxpy->fancyimpute) (0.70.12.2)\n",
            "Requirement already satisfied: osqp>=0.4.1 in /usr/local/lib/python3.7/dist-packages (from cvxpy->fancyimpute) (0.6.2.post0)\n",
            "Requirement already satisfied: qdldl in /usr/local/lib/python3.7/dist-packages (from osqp>=0.4.1->cvxpy->fancyimpute) (0.1.5.post0)\n",
            "Requirement already satisfied: dill>=0.3.4 in /usr/local/lib/python3.7/dist-packages (from multiprocess->cvxpy->fancyimpute) (0.3.4)\n",
            "Requirement already satisfied: py>=1.5.0 in /usr/local/lib/python3.7/dist-packages (from pytest->fancyimpute) (1.11.0)\n",
            "Requirement already satisfied: pluggy<0.8,>=0.5 in /usr/local/lib/python3.7/dist-packages (from pytest->fancyimpute) (0.7.1)\n",
            "Requirement already satisfied: more-itertools>=4.0.0 in /usr/local/lib/python3.7/dist-packages (from pytest->fancyimpute) (8.12.0)\n",
            "Requirement already satisfied: atomicwrites>=1.0 in /usr/local/lib/python3.7/dist-packages (from pytest->fancyimpute) (1.4.0)\n",
            "Requirement already satisfied: attrs>=17.4.0 in /usr/local/lib/python3.7/dist-packages (from pytest->fancyimpute) (21.4.0)\n",
            "Requirement already satisfied: setuptools in /usr/local/lib/python3.7/dist-packages (from pytest->fancyimpute) (57.4.0)\n"
          ]
        }
      ]
    },
    {
      "cell_type": "code",
      "source": [
        "import pandas as pd\n",
        "from pandas import DataFrame\n",
        "import matplotlib.pyplot as plt\n",
        "import seaborn as sns\n",
        "from google.colab import files\n",
        "import missingno as msno\n",
        "from sklearn.model_selection import train_test_split\n",
        "from sklearn.ensemble import RandomForestRegressor\n",
        "from sklearn.metrics import mean_absolute_error\n",
        "from sklearn.impute import SimpleImputer\n",
        "from fancyimpute import IterativeImputer as MICE\n",
        "from sklearn.svm import SVR\n",
        "from sklearn.neighbors import KNeighborsRegressor\n",
        "from tensorflow.keras.models import Sequential\n",
        "from tensorflow.keras.layers import Dense\n",
        "from sklearn.decomposition import PCA\n",
        "import numpy as np\n",
        "from sklearn.linear_model import LinearRegression\n",
        "from sklearn.preprocessing import MinMaxScaler\n",
        "from sklearn.metrics import r2_score\n",
        "from sklearn.metrics import classification_report\n",
        "from sklearn.linear_model import LogisticRegression\n",
        "import pickle\n",
        "import joblib\n",
        "from sklearn.neighbors import KNeighborsRegressor\n"
      ],
      "metadata": {
        "id": "5CePjf289LnN"
      },
      "execution_count": null,
      "outputs": []
    },
    {
      "cell_type": "code",
      "source": [
        "df = pd.read_csv('./drive/MyDrive/DeberesML/imdb.csv')\n",
        "df_original = df\n",
        "df_original.info()"
      ],
      "metadata": {
        "id": "MAwxN6dk9MM1",
        "colab": {
          "base_uri": "https://localhost:8080/"
        },
        "outputId": "54be642c-07d4-47b8-9183-f5d4d92cce26"
      },
      "execution_count": null,
      "outputs": [
        {
          "output_type": "stream",
          "name": "stdout",
          "text": [
            "<class 'pandas.core.frame.DataFrame'>\n",
            "RangeIndex: 6178 entries, 0 to 6177\n",
            "Data columns (total 14 columns):\n",
            " #   Column       Non-Null Count  Dtype \n",
            "---  ------       --------------  ----- \n",
            " 0   Name         6178 non-null   object\n",
            " 1   Date         6178 non-null   int64 \n",
            " 2   Rate         6178 non-null   object\n",
            " 3   Votes        6178 non-null   object\n",
            " 4   Genre        6178 non-null   object\n",
            " 5   Duration     6178 non-null   object\n",
            " 6   Type         6178 non-null   object\n",
            " 7   Certificate  6178 non-null   object\n",
            " 8   Episodes     6178 non-null   object\n",
            " 9   Nudity       6178 non-null   object\n",
            " 10  Violence     6178 non-null   object\n",
            " 11  Profanity    6178 non-null   object\n",
            " 12  Alcohol      6178 non-null   object\n",
            " 13  Frightening  6178 non-null   object\n",
            "dtypes: int64(1), object(13)\n",
            "memory usage: 675.8+ KB\n"
          ]
        }
      ]
    },
    {
      "cell_type": "markdown",
      "source": [
        "#Limpieza"
      ],
      "metadata": {
        "id": "JbMDV--6QM3M"
      }
    },
    {
      "cell_type": "code",
      "source": [
        "sns.set(style=\"whitegrid\", font_scale=1)\n",
        "plt.figure(figsize=(15,15))\n",
        "plt.title(\"Pearson\", fontsize = 20)\n",
        "sns.heatmap(df_original.corr(), vmax= 0.7, square= True, cmap=\"GnBu\", linecolor='b', annot=True, annot_kws= {'size':8} )"
      ],
      "metadata": {
        "id": "PllwA17w9fI-",
        "colab": {
          "base_uri": "https://localhost:8080/",
          "height": 873
        },
        "outputId": "85fe3400-048c-462e-87c2-4e4ba974c7b6"
      },
      "execution_count": null,
      "outputs": [
        {
          "output_type": "execute_result",
          "data": {
            "text/plain": [
              "<matplotlib.axes._subplots.AxesSubplot at 0x7f12d9882a50>"
            ]
          },
          "metadata": {},
          "execution_count": 78
        },
        {
          "output_type": "display_data",
          "data": {
            "image/png": "[encoded data removed]",
            "text/plain": [
              "<Figure size 1080x1080 with 2 Axes>"
            ]
          },
          "metadata": {}
        }
      ]
    },
    {
      "cell_type": "markdown",
      "source": [
        "##Haciendo Nulos y Flotantes"
      ],
      "metadata": {
        "id": "MAxQnQVrQqZH"
      }
    },
    {
      "cell_type": "code",
      "source": [
        "df_nuevo = df_original.copy()\n",
        "df_nuevo[\"Rate\"] = [x.replace(\"No Rate\", \"NaN\") for x in df_nuevo[\"Rate\"]]\n",
        "df_nuevo['Rate'] = df_nuevo['Rate'].astype(float, errors = 'raise')\n",
        "df_nuevo[\"Votes\"] = [x.replace(\"No Votes\", \"NaN\") for x in df_nuevo[\"Votes\"]]\n",
        "df_nuevo[\"Votes\"] = [x.replace(\",\", \"\") for x in df_nuevo[\"Votes\"]]\n",
        "df_nuevo['Votes'] = df_nuevo['Votes'].astype(float, errors = 'raise')\n",
        "df_nuevo[\"Duration\"] = [x.replace(\"None\", \"NaN\") for x in df_nuevo[\"Duration\"]]\n",
        "df_nuevo['Duration'] = df_nuevo['Duration'].astype(float, errors = 'raise')\n",
        "df_nuevo[\"Episodes\"] = [x.replace(\"-\", \"NaN\") for x in df_nuevo[\"Episodes\"]]\n",
        "df_nuevo['Episodes'] = df_nuevo['Episodes'].astype(float, errors = 'raise')"
      ],
      "metadata": {
        "id": "JdHdMsTZ9jtG"
      },
      "execution_count": null,
      "outputs": []
    },
    {
      "cell_type": "code",
      "source": [
        "df_nuevo.info()"
      ],
      "metadata": {
        "id": "jLGLh8k1OVQT",
        "colab": {
          "base_uri": "https://localhost:8080/"
        },
        "outputId": "be65c04f-8072-4d1d-c628-85ee3306d67d"
      },
      "execution_count": null,
      "outputs": [
        {
          "output_type": "stream",
          "name": "stdout",
          "text": [
            "<class 'pandas.core.frame.DataFrame'>\n",
            "RangeIndex: 6178 entries, 0 to 6177\n",
            "Data columns (total 14 columns):\n",
            " #   Column       Non-Null Count  Dtype  \n",
            "---  ------       --------------  -----  \n",
            " 0   Name         6178 non-null   object \n",
            " 1   Date         6178 non-null   int64  \n",
            " 2   Rate         5993 non-null   float64\n",
            " 3   Votes        5993 non-null   float64\n",
            " 4   Genre        6178 non-null   object \n",
            " 5   Duration     5877 non-null   float64\n",
            " 6   Type         6178 non-null   object \n",
            " 7   Certificate  6178 non-null   object \n",
            " 8   Episodes     1732 non-null   float64\n",
            " 9   Nudity       6178 non-null   object \n",
            " 10  Violence     6178 non-null   object \n",
            " 11  Profanity    6178 non-null   object \n",
            " 12  Alcohol      6178 non-null   object \n",
            " 13  Frightening  6178 non-null   object \n",
            "dtypes: float64(4), int64(1), object(9)\n",
            "memory usage: 675.8+ KB\n"
          ]
        }
      ]
    },
    {
      "cell_type": "code",
      "source": [
        "df_nuevo.isnull().sum()"
      ],
      "metadata": {
        "id": "pirK5_h-OW4h",
        "colab": {
          "base_uri": "https://localhost:8080/"
        },
        "outputId": "30c99567-ce6a-42ab-c89e-bee0807bbe1d"
      },
      "execution_count": null,
      "outputs": [
        {
          "output_type": "execute_result",
          "data": {
            "text/plain": [
              "Name              0\n",
              "Date              0\n",
              "Rate            185\n",
              "Votes           185\n",
              "Genre             0\n",
              "Duration        301\n",
              "Type              0\n",
              "Certificate       0\n",
              "Episodes       4446\n",
              "Nudity            0\n",
              "Violence          0\n",
              "Profanity         0\n",
              "Alcohol           0\n",
              "Frightening       0\n",
              "dtype: int64"
            ]
          },
          "metadata": {},
          "execution_count": 81
        }
      ]
    },
    {
      "cell_type": "code",
      "source": [
        "sns.set(style=\"whitegrid\", font_scale=1)\n",
        "plt.figure(figsize=(15,15))\n",
        "plt.title(\"Pearson\", fontsize = 20)\n",
        "sns.heatmap(df_nuevo.corr(), vmax= 0.7, square= True, cmap=\"GnBu\", linecolor='b', annot=True, annot_kws= {'size':8} )"
      ],
      "metadata": {
        "id": "65Vjf_Pf9rjd",
        "colab": {
          "base_uri": "https://localhost:8080/",
          "height": 863
        },
        "outputId": "2746b4e9-5b2a-4bb5-fe55-f7e4737d4225"
      },
      "execution_count": null,
      "outputs": [
        {
          "output_type": "execute_result",
          "data": {
            "text/plain": [
              "<matplotlib.axes._subplots.AxesSubplot at 0x7f12de1e8ed0>"
            ]
          },
          "metadata": {},
          "execution_count": 82
        },
        {
          "output_type": "display_data",
          "data": {
            "image/png": "[encoded data removed]",
            "text/plain": [
              "<Figure size 1080x1080 with 2 Axes>"
            ]
          },
          "metadata": {}
        }
      ]
    },
    {
      "cell_type": "code",
      "source": [
        "df_nuevo.describe().transpose()"
      ],
      "metadata": {
        "id": "HwzWtHzd9t-N",
        "colab": {
          "base_uri": "https://localhost:8080/",
          "height": 206
        },
        "outputId": "6096d670-d4ab-46f3-8303-4cbe25601146"
      },
      "execution_count": null,
      "outputs": [
        {
          "output_type": "execute_result",
          "data": {
            "text/html": [
              "\n",
              "  <div id=\"df-63f2fdb0-8039-4044-9f0c-af4c39847257\">\n",
              "    <div class=\"colab-df-container\">\n",
              "      <div>\n",
              "<style scoped>\n",
              "    .dataframe tbody tr th:only-of-type {\n",
              "        vertical-align: middle;\n",
              "    }\n",
              "\n",
              "    .dataframe tbody tr th {\n",
              "        vertical-align: top;\n",
              "    }\n",
              "\n",
              "    .dataframe thead th {\n",
              "        text-align: right;\n",
              "    }\n",
              "</style>\n",
              "<table border=\"1\" class=\"dataframe\">\n",
              "  <thead>\n",
              "    <tr style=\"text-align: right;\">\n",
              "      <th></th>\n",
              "      <th>count</th>\n",
              "      <th>mean</th>\n",
              "      <th>std</th>\n",
              "      <th>min</th>\n",
              "      <th>25%</th>\n",
              "      <th>50%</th>\n",
              "      <th>75%</th>\n",
              "      <th>max</th>\n",
              "    </tr>\n",
              "  </thead>\n",
              "  <tbody>\n",
              "    <tr>\n",
              "      <th>Date</th>\n",
              "      <td>6178.0</td>\n",
              "      <td>2005.952574</td>\n",
              "      <td>15.910248</td>\n",
              "      <td>1922.0</td>\n",
              "      <td>1998.0</td>\n",
              "      <td>2011.0</td>\n",
              "      <td>2019.0</td>\n",
              "      <td>2023.0</td>\n",
              "    </tr>\n",
              "    <tr>\n",
              "      <th>Rate</th>\n",
              "      <td>5993.0</td>\n",
              "      <td>6.876673</td>\n",
              "      <td>1.081994</td>\n",
              "      <td>1.2</td>\n",
              "      <td>6.2</td>\n",
              "      <td>7.0</td>\n",
              "      <td>7.6</td>\n",
              "      <td>9.7</td>\n",
              "    </tr>\n",
              "    <tr>\n",
              "      <th>Votes</th>\n",
              "      <td>5993.0</td>\n",
              "      <td>122363.591857</td>\n",
              "      <td>193047.476169</td>\n",
              "      <td>31.0</td>\n",
              "      <td>14165.0</td>\n",
              "      <td>56565.0</td>\n",
              "      <td>147643.0</td>\n",
              "      <td>2474122.0</td>\n",
              "    </tr>\n",
              "    <tr>\n",
              "      <th>Duration</th>\n",
              "      <td>5877.0</td>\n",
              "      <td>94.576995</td>\n",
              "      <td>41.765795</td>\n",
              "      <td>2.0</td>\n",
              "      <td>70.0</td>\n",
              "      <td>100.0</td>\n",
              "      <td>116.0</td>\n",
              "      <td>900.0</td>\n",
              "    </tr>\n",
              "    <tr>\n",
              "      <th>Episodes</th>\n",
              "      <td>1732.0</td>\n",
              "      <td>139.314088</td>\n",
              "      <td>776.128067</td>\n",
              "      <td>3.0</td>\n",
              "      <td>16.0</td>\n",
              "      <td>35.0</td>\n",
              "      <td>95.0</td>\n",
              "      <td>14301.0</td>\n",
              "    </tr>\n",
              "  </tbody>\n",
              "</table>\n",
              "</div>\n",
              "      <button class=\"colab-df-convert\" onclick=\"convertToInteractive('df-63f2fdb0-8039-4044-9f0c-af4c39847257')\"\n",
              "              title=\"Convert this dataframe to an interactive table.\"\n",
              "              style=\"display:none;\">\n",
              "        \n",
              "  <svg xmlns=\"http://www.w3.org/2000/svg\" height=\"24px\"viewBox=\"0 0 24 24\"\n",
              "       width=\"24px\">\n",
              "    <path d=\"M0 0h24v24H0V0z\" fill=\"none\"/>\n",
              "    <path d=\"M18.56 5.44l.94 2.06.94-2.06 2.06-.94-2.06-.94-.94-2.06-.94 2.06-2.06.94zm-11 1L8.5 8.5l.94-2.06 2.06-.94-2.06-.94L8.5 2.5l-.94 2.06-2.06.94zm10 10l.94 2.06.94-2.06 2.06-.94-2.06-.94-.94-2.06-.94 2.06-2.06.94z\"/><path d=\"M17.41 7.96l-1.37-1.37c-.4-.4-.92-.59-1.43-.59-.52 0-1.04.2-1.43.59L10.3 9.45l-7.72 7.72c-.78.78-.78 2.05 0 2.83L4 21.41c.39.39.9.59 1.41.59.51 0 1.02-.2 1.41-.59l7.78-7.78 2.81-2.81c.8-.78.8-2.07 0-2.86zM5.41 20L4 18.59l7.72-7.72 1.47 1.35L5.41 20z\"/>\n",
              "  </svg>\n",
              "      </button>\n",
              "      \n",
              "  <style>\n",
              "    .colab-df-container {\n",
              "      display:flex;\n",
              "      flex-wrap:wrap;\n",
              "      gap: 12px;\n",
              "    }\n",
              "\n",
              "    .colab-df-convert {\n",
              "      background-color: #E8F0FE;\n",
              "      border: none;\n",
              "      border-radius: 50%;\n",
              "      cursor: pointer;\n",
              "      display: none;\n",
              "      fill: #1967D2;\n",
              "      height: 32px;\n",
              "      padding: 0 0 0 0;\n",
              "      width: 32px;\n",
              "    }\n",
              "\n",
              "    .colab-df-convert:hover {\n",
              "      background-color: #E2EBFA;\n",
              "      box-shadow: 0px 1px 2px rgba(60, 64, 67, 0.3), 0px 1px 3px 1px rgba(60, 64, 67, 0.15);\n",
              "      fill: #174EA6;\n",
              "    }\n",
              "\n",
              "    [theme=dark] .colab-df-convert {\n",
              "      background-color: #3B4455;\n",
              "      fill: #D2E3FC;\n",
              "    }\n",
              "\n",
              "    [theme=dark] .colab-df-convert:hover {\n",
              "      background-color: #434B5C;\n",
              "      box-shadow: 0px 1px 3px 1px rgba(0, 0, 0, 0.15);\n",
              "      filter: drop-shadow(0px 1px 2px rgba(0, 0, 0, 0.3));\n",
              "      fill: #FFFFFF;\n",
              "    }\n",
              "  </style>\n",
              "\n",
              "      <script>\n",
              "        const buttonEl =\n",
              "          document.querySelector('#df-63f2fdb0-8039-4044-9f0c-af4c39847257 button.colab-df-convert');\n",
              "        buttonEl.style.display =\n",
              "          google.colab.kernel.accessAllowed ? 'block' : 'none';\n",
              "\n",
              "        async function convertToInteractive(key) {\n",
              "          const element = document.querySelector('#df-63f2fdb0-8039-4044-9f0c-af4c39847257');\n",
              "          const dataTable =\n",
              "            await google.colab.kernel.invokeFunction('convertToInteractive',\n",
              "                                                     [key], {});\n",
              "          if (!dataTable) return;\n",
              "\n",
              "          const docLinkHtml = 'Like what you see? Visit the ' +\n",
              "            '<a target=\"_blank\" href=https://colab.research.google.com/notebooks/data_table.ipynb>data table notebook</a>'\n",
              "            + ' to learn more about interactive tables.';\n",
              "          element.innerHTML = '';\n",
              "          dataTable['output_type'] = 'display_data';\n",
              "          await google.colab.output.renderOutput(dataTable, element);\n",
              "          const docLink = document.createElement('div');\n",
              "          docLink.innerHTML = docLinkHtml;\n",
              "          element.appendChild(docLink);\n",
              "        }\n",
              "      </script>\n",
              "    </div>\n",
              "  </div>\n",
              "  "
            ],
            "text/plain": [
              "           count           mean            std     min      25%      50%  \\\n",
              "Date      6178.0    2005.952574      15.910248  1922.0   1998.0   2011.0   \n",
              "Rate      5993.0       6.876673       1.081994     1.2      6.2      7.0   \n",
              "Votes     5993.0  122363.591857  193047.476169    31.0  14165.0  56565.0   \n",
              "Duration  5877.0      94.576995      41.765795     2.0     70.0    100.0   \n",
              "Episodes  1732.0     139.314088     776.128067     3.0     16.0     35.0   \n",
              "\n",
              "               75%        max  \n",
              "Date        2019.0     2023.0  \n",
              "Rate           7.6        9.7  \n",
              "Votes     147643.0  2474122.0  \n",
              "Duration     116.0      900.0  \n",
              "Episodes      95.0    14301.0  "
            ]
          },
          "metadata": {},
          "execution_count": 83
        }
      ]
    },
    {
      "cell_type": "markdown",
      "source": [
        "##Episodio"
      ],
      "metadata": {
        "id": "iRkO6CjrRmtn"
      }
    },
    {
      "cell_type": "code",
      "source": [
        "msno.bar(df_nuevo)"
      ],
      "metadata": {
        "id": "KqWSTELt9vs3",
        "colab": {
          "base_uri": "https://localhost:8080/",
          "height": 725
        },
        "outputId": "15e30051-1c9d-45b5-d4b1-a7f429a560ab"
      },
      "execution_count": null,
      "outputs": [
        {
          "output_type": "execute_result",
          "data": {
            "text/plain": [
              "<matplotlib.axes._subplots.AxesSubplot at 0x7f12de27b850>"
            ]
          },
          "metadata": {},
          "execution_count": 84
        },
        {
          "output_type": "display_data",
          "data": {
            "image/png": "[encoded data removed]",
            "text/plain": [
              "<Figure size 1800x720 with 3 Axes>"
            ]
          },
          "metadata": {}
        }
      ]
    },
    {
      "cell_type": "code",
      "source": [
        "df_nuevo = df_nuevo.drop(['Episodes'], axis = 1)"
      ],
      "metadata": {
        "id": "zfz8IO0Y92DU"
      },
      "execution_count": null,
      "outputs": []
    },
    {
      "cell_type": "markdown",
      "source": [
        "##Genero"
      ],
      "metadata": {
        "id": "PBiUoF8gR6zo"
      }
    },
    {
      "cell_type": "code",
      "source": [
        "'''\n",
        "df_categorizado_genre = df_nuevo.copy()\n",
        "df_categorizado_genre.Genre = df_categorizado_genre.Genre.str.replace(' ','')\n",
        "generos = df_categorizado_genre.Genre.str.get_dummies(sep=\",\")\n",
        "df_nuevo  = pd.concat([df_nuevo, generos], axis =1, join= 'inner')\n",
        "df_nuevo = df_nuevo.drop(['Genre'], axis = 1)\n",
        "df_nuevo\n",
        "'''"
      ],
      "metadata": {
        "id": "rdMNj2Il9_hd",
        "colab": {
          "base_uri": "https://localhost:8080/",
          "height": 53
        },
        "outputId": "148a0dcc-91ba-42f5-d4b7-e0425a132556"
      },
      "execution_count": null,
      "outputs": [
        {
          "output_type": "execute_result",
          "data": {
            "application/vnd.google.colaboratory.intrinsic+json": {
              "type": "string"
            },
            "text/plain": [
              "'\\ndf_categorizado_genre = df_nuevo.copy()\\ndf_categorizado_genre.Genre = df_categorizado_genre.Genre.str.replace(\\' \\',\\'\\')\\ngeneros = df_categorizado_genre.Genre.str.get_dummies(sep=\",\")\\ndf_nuevo  = pd.concat([df_nuevo, generos], axis =1, join= \\'inner\\')\\ndf_nuevo = df_nuevo.drop([\\'Genre\\'], axis = 1)\\ndf_nuevo\\n'"
            ]
          },
          "metadata": {},
          "execution_count": 86
        }
      ]
    },
    {
      "cell_type": "markdown",
      "source": [
        "##Tipo"
      ],
      "metadata": {
        "id": "ObHx_nJOR9NZ"
      }
    },
    {
      "cell_type": "code",
      "source": [
        "df_nuevo[\"Type\"] = df_nuevo[\"Type\"].replace(\"Film\", 1)\n",
        "df_nuevo[\"Type\"] = df_nuevo[\"Type\"].replace(\"Series\", 0)"
      ],
      "metadata": {
        "id": "mMzOBfnW-KDF"
      },
      "execution_count": null,
      "outputs": []
    },
    {
      "cell_type": "code",
      "source": [
        "plt.figure(figsize=(15,15))\n",
        "sns.countplot(x = 'Type',data=df_nuevo)"
      ],
      "metadata": {
        "id": "jjrwQdGyOmo4",
        "colab": {
          "base_uri": "https://localhost:8080/",
          "height": 900
        },
        "outputId": "086e3ec5-733c-44da-cc88-4963e8e67405"
      },
      "execution_count": null,
      "outputs": [
        {
          "output_type": "execute_result",
          "data": {
            "text/plain": [
              "<matplotlib.axes._subplots.AxesSubplot at 0x7f12d977e7d0>"
            ]
          },
          "metadata": {},
          "execution_count": 88
        },
        {
          "output_type": "display_data",
          "data": {
            "image/png": "[encoded data removed]",
            "text/plain": [
              "<Figure size 1080x1080 with 1 Axes>"
            ]
          },
          "metadata": {}
        }
      ]
    },
    {
      "cell_type": "markdown",
      "source": [
        "##Certificado"
      ],
      "metadata": {
        "id": "2HPfDhdJR-s_"
      }
    },
    {
      "cell_type": "code",
      "source": [
        "df_nuevo[\"Certificate\"] = df_nuevo[\"Certificate\"].replace('TV-Y', '0')\n",
        "df_nuevo[\"Certificate\"] = df_nuevo[\"Certificate\"].replace('TV-G', '0')\n",
        "df_nuevo[\"Certificate\"] = df_nuevo[\"Certificate\"].replace('Passed', '0')\n",
        "df_nuevo[\"Certificate\"] = df_nuevo[\"Certificate\"].replace('Approved', '0')\n",
        "df_nuevo[\"Certificate\"] = df_nuevo[\"Certificate\"].replace('E', '0')\n",
        "df_nuevo[\"Certificate\"] = df_nuevo[\"Certificate\"].replace('G', '0')\n",
        "df_nuevo[\"Certificate\"] = df_nuevo[\"Certificate\"].replace('PG', '0')\n",
        "\n",
        "\n",
        "\n",
        "df_nuevo[\"Certificate\"] = df_nuevo[\"Certificate\"].replace('TV-Y7-FV', '0')\n",
        "df_nuevo[\"Certificate\"] = df_nuevo[\"Certificate\"].replace('TV-Y7', '0')\n",
        "\n",
        "\n",
        "df_nuevo[\"Certificate\"] = df_nuevo[\"Certificate\"].replace('TV-14', '1')\n",
        "df_nuevo[\"Certificate\"] = df_nuevo[\"Certificate\"].replace('GP', '1')\n",
        "df_nuevo[\"Certificate\"] = df_nuevo[\"Certificate\"].replace('TV-14', '1')\n",
        "df_nuevo[\"Certificate\"] = df_nuevo[\"Certificate\"].replace('TV-PG', '1')\n",
        "df_nuevo[\"Certificate\"] = df_nuevo[\"Certificate\"].replace('M/PG', '1')\n",
        "df_nuevo[\"Certificate\"] = df_nuevo[\"Certificate\"].replace('PG-13','1')\n",
        "\n",
        "\n",
        "\n",
        "df_nuevo[\"Certificate\"] = df_nuevo[\"Certificate\"].replace('NC-17', '2')\n",
        "df_nuevo[\"Certificate\"] = df_nuevo[\"Certificate\"].replace('TV-MA', '2')\n",
        "df_nuevo[\"Certificate\"] = df_nuevo[\"Certificate\"].replace('M', '2')\n",
        "df_nuevo[\"Certificate\"] = df_nuevo[\"Certificate\"].replace('X', '2')\n",
        "df_nuevo[\"Certificate\"] = df_nuevo[\"Certificate\"].replace('R','2')\n",
        "\n",
        "\n",
        "df_nuevo[\"Certificate\"] = df_nuevo[\"Certificate\"].replace('Not Rated', '3')\n",
        "df_nuevo[\"Certificate\"] = df_nuevo[\"Certificate\"].replace('Unrated', '3')\n",
        "df_nuevo[\"Certificate\"] = df_nuevo[\"Certificate\"].replace('(Banned)', '3')\n",
        "df_nuevo[\"Certificate\"] = df_nuevo[\"Certificate\"].replace('None', '3')\n",
        "\n",
        "df_nuevo['Certificate'] = df_nuevo['Certificate'].astype(float, errors = 'raise')"
      ],
      "metadata": {
        "id": "DhBaZp-p-S4l"
      },
      "execution_count": null,
      "outputs": []
    },
    {
      "cell_type": "code",
      "source": [
        "plt.figure(figsize=(15,15))\n",
        "sns.countplot(x = 'Certificate',data=df_nuevo)"
      ],
      "metadata": {
        "id": "O1LljLMFAYxd",
        "colab": {
          "base_uri": "https://localhost:8080/",
          "height": 900
        },
        "outputId": "59d5f17c-aa6e-4655-bcb3-8e46a01683c1"
      },
      "execution_count": null,
      "outputs": [
        {
          "output_type": "execute_result",
          "data": {
            "text/plain": [
              "<matplotlib.axes._subplots.AxesSubplot at 0x7f12d96ece10>"
            ]
          },
          "metadata": {},
          "execution_count": 90
        },
        {
          "output_type": "display_data",
          "data": {
            "image/png": "[encoded data removed]",
            "text/plain": [
              "<Figure size 1080x1080 with 1 Axes>"
            ]
          },
          "metadata": {}
        }
      ]
    },
    {
      "cell_type": "markdown",
      "source": [
        "##Borrando columnas inesarias"
      ],
      "metadata": {
        "id": "w3i9BxG_SAwH"
      }
    },
    {
      "cell_type": "code",
      "source": [
        "df_nuevo = df_nuevo.drop(['Name','Genre'], axis=1)"
      ],
      "metadata": {
        "id": "ujVnK3rAPGNQ"
      },
      "execution_count": null,
      "outputs": []
    },
    {
      "cell_type": "code",
      "source": [
        "df_nuevo.info()"
      ],
      "metadata": {
        "id": "BGbhe6gT-tKg",
        "colab": {
          "base_uri": "https://localhost:8080/"
        },
        "outputId": "5a60e68a-7f77-4640-9138-f64ab48963da"
      },
      "execution_count": null,
      "outputs": [
        {
          "output_type": "stream",
          "name": "stdout",
          "text": [
            "<class 'pandas.core.frame.DataFrame'>\n",
            "RangeIndex: 6178 entries, 0 to 6177\n",
            "Data columns (total 11 columns):\n",
            " #   Column       Non-Null Count  Dtype  \n",
            "---  ------       --------------  -----  \n",
            " 0   Date         6178 non-null   int64  \n",
            " 1   Rate         5993 non-null   float64\n",
            " 2   Votes        5993 non-null   float64\n",
            " 3   Duration     5877 non-null   float64\n",
            " 4   Type         6178 non-null   int64  \n",
            " 5   Certificate  6178 non-null   float64\n",
            " 6   Nudity       6178 non-null   object \n",
            " 7   Violence     6178 non-null   object \n",
            " 8   Profanity    6178 non-null   object \n",
            " 9   Alcohol      6178 non-null   object \n",
            " 10  Frightening  6178 non-null   object \n",
            "dtypes: float64(4), int64(2), object(5)\n",
            "memory usage: 531.0+ KB\n"
          ]
        }
      ]
    },
    {
      "cell_type": "markdown",
      "source": [
        "## Desnudez, Violencia, Profanidad, Alcohol, Atemorizante"
      ],
      "metadata": {
        "id": "Aktwx-QsSO8Q"
      }
    },
    {
      "cell_type": "code",
      "source": [
        "df_nuevo.replace({'None':0,'Mild':1,'Moderate':2,'Severe':3,'No Rate':0}, inplace = True)"
      ],
      "metadata": {
        "id": "dcb7WgMv-6vF"
      },
      "execution_count": null,
      "outputs": []
    },
    {
      "cell_type": "code",
      "source": [
        "df_nuevo"
      ],
      "metadata": {
        "id": "xNo6Z0jYAImn",
        "colab": {
          "base_uri": "https://localhost:8080/",
          "height": 424
        },
        "outputId": "7a8712d9-8e51-4f02-a5d4-b345d2308b31"
      },
      "execution_count": null,
      "outputs": [
        {
          "output_type": "execute_result",
          "data": {
            "text/html": [
              "\n",
              "  <div id=\"df-8b7caa7b-b220-4ae0-af0a-89a98aace77f\">\n",
              "    <div class=\"colab-df-container\">\n",
              "      <div>\n",
              "<style scoped>\n",
              "    .dataframe tbody tr th:only-of-type {\n",
              "        vertical-align: middle;\n",
              "    }\n",
              "\n",
              "    .dataframe tbody tr th {\n",
              "        vertical-align: top;\n",
              "    }\n",
              "\n",
              "    .dataframe thead th {\n",
              "        text-align: right;\n",
              "    }\n",
              "</style>\n",
              "<table border=\"1\" class=\"dataframe\">\n",
              "  <thead>\n",
              "    <tr style=\"text-align: right;\">\n",
              "      <th></th>\n",
              "      <th>Date</th>\n",
              "      <th>Rate</th>\n",
              "      <th>Votes</th>\n",
              "      <th>Duration</th>\n",
              "      <th>Type</th>\n",
              "      <th>Certificate</th>\n",
              "      <th>Nudity</th>\n",
              "      <th>Violence</th>\n",
              "      <th>Profanity</th>\n",
              "      <th>Alcohol</th>\n",
              "      <th>Frightening</th>\n",
              "    </tr>\n",
              "  </thead>\n",
              "  <tbody>\n",
              "    <tr>\n",
              "      <th>0</th>\n",
              "      <td>2021</td>\n",
              "      <td>7.6</td>\n",
              "      <td>107163.0</td>\n",
              "      <td>163.0</td>\n",
              "      <td>1</td>\n",
              "      <td>1.0</td>\n",
              "      <td>1</td>\n",
              "      <td>2</td>\n",
              "      <td>1</td>\n",
              "      <td>1</td>\n",
              "      <td>2</td>\n",
              "    </tr>\n",
              "    <tr>\n",
              "      <th>1</th>\n",
              "      <td>2021</td>\n",
              "      <td>6.3</td>\n",
              "      <td>64375.0</td>\n",
              "      <td>90.0</td>\n",
              "      <td>1</td>\n",
              "      <td>2.0</td>\n",
              "      <td>0</td>\n",
              "      <td>0</td>\n",
              "      <td>3</td>\n",
              "      <td>0</td>\n",
              "      <td>2</td>\n",
              "    </tr>\n",
              "    <tr>\n",
              "      <th>2</th>\n",
              "      <td>2021</td>\n",
              "      <td>6.4</td>\n",
              "      <td>27145.0</td>\n",
              "      <td>120.0</td>\n",
              "      <td>1</td>\n",
              "      <td>2.0</td>\n",
              "      <td>2</td>\n",
              "      <td>3</td>\n",
              "      <td>3</td>\n",
              "      <td>2</td>\n",
              "      <td>2</td>\n",
              "    </tr>\n",
              "    <tr>\n",
              "      <th>3</th>\n",
              "      <td>2021</td>\n",
              "      <td>6.4</td>\n",
              "      <td>30443.0</td>\n",
              "      <td>97.0</td>\n",
              "      <td>1</td>\n",
              "      <td>1.0</td>\n",
              "      <td>0</td>\n",
              "      <td>2</td>\n",
              "      <td>2</td>\n",
              "      <td>1</td>\n",
              "      <td>2</td>\n",
              "    </tr>\n",
              "    <tr>\n",
              "      <th>4</th>\n",
              "      <td>2021</td>\n",
              "      <td>8.3</td>\n",
              "      <td>84636.0</td>\n",
              "      <td>155.0</td>\n",
              "      <td>1</td>\n",
              "      <td>1.0</td>\n",
              "      <td>0</td>\n",
              "      <td>2</td>\n",
              "      <td>0</td>\n",
              "      <td>1</td>\n",
              "      <td>2</td>\n",
              "    </tr>\n",
              "    <tr>\n",
              "      <th>...</th>\n",
              "      <td>...</td>\n",
              "      <td>...</td>\n",
              "      <td>...</td>\n",
              "      <td>...</td>\n",
              "      <td>...</td>\n",
              "      <td>...</td>\n",
              "      <td>...</td>\n",
              "      <td>...</td>\n",
              "      <td>...</td>\n",
              "      <td>...</td>\n",
              "      <td>...</td>\n",
              "    </tr>\n",
              "    <tr>\n",
              "      <th>6173</th>\n",
              "      <td>2011</td>\n",
              "      <td>3.8</td>\n",
              "      <td>37492.0</td>\n",
              "      <td>91.0</td>\n",
              "      <td>1</td>\n",
              "      <td>3.0</td>\n",
              "      <td>3</td>\n",
              "      <td>3</td>\n",
              "      <td>3</td>\n",
              "      <td>1</td>\n",
              "      <td>3</td>\n",
              "    </tr>\n",
              "    <tr>\n",
              "      <th>6174</th>\n",
              "      <td>1944</td>\n",
              "      <td>8.3</td>\n",
              "      <td>150448.0</td>\n",
              "      <td>107.0</td>\n",
              "      <td>1</td>\n",
              "      <td>0.0</td>\n",
              "      <td>0</td>\n",
              "      <td>1</td>\n",
              "      <td>0</td>\n",
              "      <td>1</td>\n",
              "      <td>1</td>\n",
              "    </tr>\n",
              "    <tr>\n",
              "      <th>6175</th>\n",
              "      <td>2007</td>\n",
              "      <td>7.3</td>\n",
              "      <td>100668.0</td>\n",
              "      <td>117.0</td>\n",
              "      <td>1</td>\n",
              "      <td>2.0</td>\n",
              "      <td>3</td>\n",
              "      <td>2</td>\n",
              "      <td>3</td>\n",
              "      <td>3</td>\n",
              "      <td>3</td>\n",
              "    </tr>\n",
              "    <tr>\n",
              "      <th>6176</th>\n",
              "      <td>2021</td>\n",
              "      <td>6.0</td>\n",
              "      <td>887.0</td>\n",
              "      <td>100.0</td>\n",
              "      <td>1</td>\n",
              "      <td>1.0</td>\n",
              "      <td>0</td>\n",
              "      <td>0</td>\n",
              "      <td>1</td>\n",
              "      <td>2</td>\n",
              "      <td>0</td>\n",
              "    </tr>\n",
              "    <tr>\n",
              "      <th>6177</th>\n",
              "      <td>2008</td>\n",
              "      <td>6.3</td>\n",
              "      <td>203578.0</td>\n",
              "      <td>105.0</td>\n",
              "      <td>1</td>\n",
              "      <td>2.0</td>\n",
              "      <td>1</td>\n",
              "      <td>3</td>\n",
              "      <td>3</td>\n",
              "      <td>1</td>\n",
              "      <td>2</td>\n",
              "    </tr>\n",
              "  </tbody>\n",
              "</table>\n",
              "<p>6178 rows × 11 columns</p>\n",
              "</div>\n",
              "      <button class=\"colab-df-convert\" onclick=\"convertToInteractive('df-8b7caa7b-b220-4ae0-af0a-89a98aace77f')\"\n",
              "              title=\"Convert this dataframe to an interactive table.\"\n",
              "              style=\"display:none;\">\n",
              "        \n",
              "  <svg xmlns=\"http://www.w3.org/2000/svg\" height=\"24px\"viewBox=\"0 0 24 24\"\n",
              "       width=\"24px\">\n",
              "    <path d=\"M0 0h24v24H0V0z\" fill=\"none\"/>\n",
              "    <path d=\"M18.56 5.44l.94 2.06.94-2.06 2.06-.94-2.06-.94-.94-2.06-.94 2.06-2.06.94zm-11 1L8.5 8.5l.94-2.06 2.06-.94-2.06-.94L8.5 2.5l-.94 2.06-2.06.94zm10 10l.94 2.06.94-2.06 2.06-.94-2.06-.94-.94-2.06-.94 2.06-2.06.94z\"/><path d=\"M17.41 7.96l-1.37-1.37c-.4-.4-.92-.59-1.43-.59-.52 0-1.04.2-1.43.59L10.3 9.45l-7.72 7.72c-.78.78-.78 2.05 0 2.83L4 21.41c.39.39.9.59 1.41.59.51 0 1.02-.2 1.41-.59l7.78-7.78 2.81-2.81c.8-.78.8-2.07 0-2.86zM5.41 20L4 18.59l7.72-7.72 1.47 1.35L5.41 20z\"/>\n",
              "  </svg>\n",
              "      </button>\n",
              "      \n",
              "  <style>\n",
              "    .colab-df-container {\n",
              "      display:flex;\n",
              "      flex-wrap:wrap;\n",
              "      gap: 12px;\n",
              "    }\n",
              "\n",
              "    .colab-df-convert {\n",
              "      background-color: #E8F0FE;\n",
              "      border: none;\n",
              "      border-radius: 50%;\n",
              "      cursor: pointer;\n",
              "      display: none;\n",
              "      fill: #1967D2;\n",
              "      height: 32px;\n",
              "      padding: 0 0 0 0;\n",
              "      width: 32px;\n",
              "    }\n",
              "\n",
              "    .colab-df-convert:hover {\n",
              "      background-color: #E2EBFA;\n",
              "      box-shadow: 0px 1px 2px rgba(60, 64, 67, 0.3), 0px 1px 3px 1px rgba(60, 64, 67, 0.15);\n",
              "      fill: #174EA6;\n",
              "    }\n",
              "\n",
              "    [theme=dark] .colab-df-convert {\n",
              "      background-color: #3B4455;\n",
              "      fill: #D2E3FC;\n",
              "    }\n",
              "\n",
              "    [theme=dark] .colab-df-convert:hover {\n",
              "      background-color: #434B5C;\n",
              "      box-shadow: 0px 1px 3px 1px rgba(0, 0, 0, 0.15);\n",
              "      filter: drop-shadow(0px 1px 2px rgba(0, 0, 0, 0.3));\n",
              "      fill: #FFFFFF;\n",
              "    }\n",
              "  </style>\n",
              "\n",
              "      <script>\n",
              "        const buttonEl =\n",
              "          document.querySelector('#df-8b7caa7b-b220-4ae0-af0a-89a98aace77f button.colab-df-convert');\n",
              "        buttonEl.style.display =\n",
              "          google.colab.kernel.accessAllowed ? 'block' : 'none';\n",
              "\n",
              "        async function convertToInteractive(key) {\n",
              "          const element = document.querySelector('#df-8b7caa7b-b220-4ae0-af0a-89a98aace77f');\n",
              "          const dataTable =\n",
              "            await google.colab.kernel.invokeFunction('convertToInteractive',\n",
              "                                                     [key], {});\n",
              "          if (!dataTable) return;\n",
              "\n",
              "          const docLinkHtml = 'Like what you see? Visit the ' +\n",
              "            '<a target=\"_blank\" href=https://colab.research.google.com/notebooks/data_table.ipynb>data table notebook</a>'\n",
              "            + ' to learn more about interactive tables.';\n",
              "          element.innerHTML = '';\n",
              "          dataTable['output_type'] = 'display_data';\n",
              "          await google.colab.output.renderOutput(dataTable, element);\n",
              "          const docLink = document.createElement('div');\n",
              "          docLink.innerHTML = docLinkHtml;\n",
              "          element.appendChild(docLink);\n",
              "        }\n",
              "      </script>\n",
              "    </div>\n",
              "  </div>\n",
              "  "
            ],
            "text/plain": [
              "      Date  Rate     Votes  Duration  Type  Certificate  Nudity  Violence  \\\n",
              "0     2021   7.6  107163.0     163.0     1          1.0       1         2   \n",
              "1     2021   6.3   64375.0      90.0     1          2.0       0         0   \n",
              "2     2021   6.4   27145.0     120.0     1          2.0       2         3   \n",
              "3     2021   6.4   30443.0      97.0     1          1.0       0         2   \n",
              "4     2021   8.3   84636.0     155.0     1          1.0       0         2   \n",
              "...    ...   ...       ...       ...   ...          ...     ...       ...   \n",
              "6173  2011   3.8   37492.0      91.0     1          3.0       3         3   \n",
              "6174  1944   8.3  150448.0     107.0     1          0.0       0         1   \n",
              "6175  2007   7.3  100668.0     117.0     1          2.0       3         2   \n",
              "6176  2021   6.0     887.0     100.0     1          1.0       0         0   \n",
              "6177  2008   6.3  203578.0     105.0     1          2.0       1         3   \n",
              "\n",
              "      Profanity  Alcohol  Frightening  \n",
              "0             1        1            2  \n",
              "1             3        0            2  \n",
              "2             3        2            2  \n",
              "3             2        1            2  \n",
              "4             0        1            2  \n",
              "...         ...      ...          ...  \n",
              "6173          3        1            3  \n",
              "6174          0        1            1  \n",
              "6175          3        3            3  \n",
              "6176          1        2            0  \n",
              "6177          3        1            2  \n",
              "\n",
              "[6178 rows x 11 columns]"
            ]
          },
          "metadata": {},
          "execution_count": 94
        }
      ]
    },
    {
      "cell_type": "code",
      "source": [
        "df_nuevo.info()"
      ],
      "metadata": {
        "id": "4Q_-z55lBcUn",
        "colab": {
          "base_uri": "https://localhost:8080/"
        },
        "outputId": "b5b74717-1ab4-4c9a-898f-ce23e40f0fc7"
      },
      "execution_count": null,
      "outputs": [
        {
          "output_type": "stream",
          "name": "stdout",
          "text": [
            "<class 'pandas.core.frame.DataFrame'>\n",
            "RangeIndex: 6178 entries, 0 to 6177\n",
            "Data columns (total 11 columns):\n",
            " #   Column       Non-Null Count  Dtype  \n",
            "---  ------       --------------  -----  \n",
            " 0   Date         6178 non-null   int64  \n",
            " 1   Rate         5993 non-null   float64\n",
            " 2   Votes        5993 non-null   float64\n",
            " 3   Duration     5877 non-null   float64\n",
            " 4   Type         6178 non-null   int64  \n",
            " 5   Certificate  6178 non-null   float64\n",
            " 6   Nudity       6178 non-null   int64  \n",
            " 7   Violence     6178 non-null   int64  \n",
            " 8   Profanity    6178 non-null   int64  \n",
            " 9   Alcohol      6178 non-null   int64  \n",
            " 10  Frightening  6178 non-null   int64  \n",
            "dtypes: float64(4), int64(7)\n",
            "memory usage: 531.0 KB\n"
          ]
        }
      ]
    },
    {
      "cell_type": "code",
      "source": [
        "sns.set(style=\"whitegrid\", font_scale=1)\n",
        "plt.figure(figsize=(15,15))\n",
        "plt.title(\"Pearson\", fontsize = 20)\n",
        "sns.heatmap(df_nuevo.corr(), vmax= 0.7, square= True, cmap=\"GnBu\", linecolor='b', annot=True, annot_kws= {'size':8} )"
      ],
      "metadata": {
        "id": "5tCgfK9WPp2N",
        "colab": {
          "base_uri": "https://localhost:8080/",
          "height": 863
        },
        "outputId": "26c484b0-5536-4e2a-a2e2-33feb30fc09d"
      },
      "execution_count": null,
      "outputs": [
        {
          "output_type": "execute_result",
          "data": {
            "text/plain": [
              "<matplotlib.axes._subplots.AxesSubplot at 0x7f12d964a850>"
            ]
          },
          "metadata": {},
          "execution_count": 96
        },
        {
          "output_type": "display_data",
          "data": {
            "image/png": "[encoded data removed]",
            "text/plain": [
              "<Figure size 1080x1080 with 2 Axes>"
            ]
          },
          "metadata": {}
        }
      ]
    },
    {
      "cell_type": "code",
      "source": [
        "df_nuevo.describe().transpose()"
      ],
      "metadata": {
        "id": "a_ozwDJvPsqE",
        "colab": {
          "base_uri": "https://localhost:8080/",
          "height": 394
        },
        "outputId": "6331b90f-3cec-4785-9a2f-414284bd9427"
      },
      "execution_count": null,
      "outputs": [
        {
          "output_type": "execute_result",
          "data": {
            "text/html": [
              "\n",
              "  <div id=\"df-fc25a372-305e-4058-97c8-d83c2422200c\">\n",
              "    <div class=\"colab-df-container\">\n",
              "      <div>\n",
              "<style scoped>\n",
              "    .dataframe tbody tr th:only-of-type {\n",
              "        vertical-align: middle;\n",
              "    }\n",
              "\n",
              "    .dataframe tbody tr th {\n",
              "        vertical-align: top;\n",
              "    }\n",
              "\n",
              "    .dataframe thead th {\n",
              "        text-align: right;\n",
              "    }\n",
              "</style>\n",
              "<table border=\"1\" class=\"dataframe\">\n",
              "  <thead>\n",
              "    <tr style=\"text-align: right;\">\n",
              "      <th></th>\n",
              "      <th>count</th>\n",
              "      <th>mean</th>\n",
              "      <th>std</th>\n",
              "      <th>min</th>\n",
              "      <th>25%</th>\n",
              "      <th>50%</th>\n",
              "      <th>75%</th>\n",
              "      <th>max</th>\n",
              "    </tr>\n",
              "  </thead>\n",
              "  <tbody>\n",
              "    <tr>\n",
              "      <th>Date</th>\n",
              "      <td>6178.0</td>\n",
              "      <td>2005.952574</td>\n",
              "      <td>15.910248</td>\n",
              "      <td>1922.0</td>\n",
              "      <td>1998.0</td>\n",
              "      <td>2011.0</td>\n",
              "      <td>2019.0</td>\n",
              "      <td>2023.0</td>\n",
              "    </tr>\n",
              "    <tr>\n",
              "      <th>Rate</th>\n",
              "      <td>5993.0</td>\n",
              "      <td>6.876673</td>\n",
              "      <td>1.081994</td>\n",
              "      <td>1.2</td>\n",
              "      <td>6.2</td>\n",
              "      <td>7.0</td>\n",
              "      <td>7.6</td>\n",
              "      <td>9.7</td>\n",
              "    </tr>\n",
              "    <tr>\n",
              "      <th>Votes</th>\n",
              "      <td>5993.0</td>\n",
              "      <td>122363.591857</td>\n",
              "      <td>193047.476169</td>\n",
              "      <td>31.0</td>\n",
              "      <td>14165.0</td>\n",
              "      <td>56565.0</td>\n",
              "      <td>147643.0</td>\n",
              "      <td>2474122.0</td>\n",
              "    </tr>\n",
              "    <tr>\n",
              "      <th>Duration</th>\n",
              "      <td>5877.0</td>\n",
              "      <td>94.576995</td>\n",
              "      <td>41.765795</td>\n",
              "      <td>2.0</td>\n",
              "      <td>70.0</td>\n",
              "      <td>100.0</td>\n",
              "      <td>116.0</td>\n",
              "      <td>900.0</td>\n",
              "    </tr>\n",
              "    <tr>\n",
              "      <th>Type</th>\n",
              "      <td>6178.0</td>\n",
              "      <td>0.719650</td>\n",
              "      <td>0.449206</td>\n",
              "      <td>0.0</td>\n",
              "      <td>0.0</td>\n",
              "      <td>1.0</td>\n",
              "      <td>1.0</td>\n",
              "      <td>1.0</td>\n",
              "    </tr>\n",
              "    <tr>\n",
              "      <th>Certificate</th>\n",
              "      <td>6178.0</td>\n",
              "      <td>1.515053</td>\n",
              "      <td>0.869416</td>\n",
              "      <td>0.0</td>\n",
              "      <td>1.0</td>\n",
              "      <td>2.0</td>\n",
              "      <td>2.0</td>\n",
              "      <td>3.0</td>\n",
              "    </tr>\n",
              "    <tr>\n",
              "      <th>Nudity</th>\n",
              "      <td>6178.0</td>\n",
              "      <td>1.003723</td>\n",
              "      <td>0.925675</td>\n",
              "      <td>0.0</td>\n",
              "      <td>0.0</td>\n",
              "      <td>1.0</td>\n",
              "      <td>2.0</td>\n",
              "      <td>3.0</td>\n",
              "    </tr>\n",
              "    <tr>\n",
              "      <th>Violence</th>\n",
              "      <td>6178.0</td>\n",
              "      <td>1.459210</td>\n",
              "      <td>1.053546</td>\n",
              "      <td>0.0</td>\n",
              "      <td>1.0</td>\n",
              "      <td>1.0</td>\n",
              "      <td>2.0</td>\n",
              "      <td>3.0</td>\n",
              "    </tr>\n",
              "    <tr>\n",
              "      <th>Profanity</th>\n",
              "      <td>6178.0</td>\n",
              "      <td>1.379896</td>\n",
              "      <td>1.015134</td>\n",
              "      <td>0.0</td>\n",
              "      <td>1.0</td>\n",
              "      <td>1.0</td>\n",
              "      <td>2.0</td>\n",
              "      <td>3.0</td>\n",
              "    </tr>\n",
              "    <tr>\n",
              "      <th>Alcohol</th>\n",
              "      <td>6178.0</td>\n",
              "      <td>1.006798</td>\n",
              "      <td>0.782448</td>\n",
              "      <td>0.0</td>\n",
              "      <td>0.0</td>\n",
              "      <td>1.0</td>\n",
              "      <td>1.0</td>\n",
              "      <td>3.0</td>\n",
              "    </tr>\n",
              "    <tr>\n",
              "      <th>Frightening</th>\n",
              "      <td>6178.0</td>\n",
              "      <td>1.334251</td>\n",
              "      <td>1.035142</td>\n",
              "      <td>0.0</td>\n",
              "      <td>0.0</td>\n",
              "      <td>1.0</td>\n",
              "      <td>2.0</td>\n",
              "      <td>3.0</td>\n",
              "    </tr>\n",
              "  </tbody>\n",
              "</table>\n",
              "</div>\n",
              "      <button class=\"colab-df-convert\" onclick=\"convertToInteractive('df-fc25a372-305e-4058-97c8-d83c2422200c')\"\n",
              "              title=\"Convert this dataframe to an interactive table.\"\n",
              "              style=\"display:none;\">\n",
              "        \n",
              "  <svg xmlns=\"http://www.w3.org/2000/svg\" height=\"24px\"viewBox=\"0 0 24 24\"\n",
              "       width=\"24px\">\n",
              "    <path d=\"M0 0h24v24H0V0z\" fill=\"none\"/>\n",
              "    <path d=\"M18.56 5.44l.94 2.06.94-2.06 2.06-.94-2.06-.94-.94-2.06-.94 2.06-2.06.94zm-11 1L8.5 8.5l.94-2.06 2.06-.94-2.06-.94L8.5 2.5l-.94 2.06-2.06.94zm10 10l.94 2.06.94-2.06 2.06-.94-2.06-.94-.94-2.06-.94 2.06-2.06.94z\"/><path d=\"M17.41 7.96l-1.37-1.37c-.4-.4-.92-.59-1.43-.59-.52 0-1.04.2-1.43.59L10.3 9.45l-7.72 7.72c-.78.78-.78 2.05 0 2.83L4 21.41c.39.39.9.59 1.41.59.51 0 1.02-.2 1.41-.59l7.78-7.78 2.81-2.81c.8-.78.8-2.07 0-2.86zM5.41 20L4 18.59l7.72-7.72 1.47 1.35L5.41 20z\"/>\n",
              "  </svg>\n",
              "      </button>\n",
              "      \n",
              "  <style>\n",
              "    .colab-df-container {\n",
              "      display:flex;\n",
              "      flex-wrap:wrap;\n",
              "      gap: 12px;\n",
              "    }\n",
              "\n",
              "    .colab-df-convert {\n",
              "      background-color: #E8F0FE;\n",
              "      border: none;\n",
              "      border-radius: 50%;\n",
              "      cursor: pointer;\n",
              "      display: none;\n",
              "      fill: #1967D2;\n",
              "      height: 32px;\n",
              "      padding: 0 0 0 0;\n",
              "      width: 32px;\n",
              "    }\n",
              "\n",
              "    .colab-df-convert:hover {\n",
              "      background-color: #E2EBFA;\n",
              "      box-shadow: 0px 1px 2px rgba(60, 64, 67, 0.3), 0px 1px 3px 1px rgba(60, 64, 67, 0.15);\n",
              "      fill: #174EA6;\n",
              "    }\n",
              "\n",
              "    [theme=dark] .colab-df-convert {\n",
              "      background-color: #3B4455;\n",
              "      fill: #D2E3FC;\n",
              "    }\n",
              "\n",
              "    [theme=dark] .colab-df-convert:hover {\n",
              "      background-color: #434B5C;\n",
              "      box-shadow: 0px 1px 3px 1px rgba(0, 0, 0, 0.15);\n",
              "      filter: drop-shadow(0px 1px 2px rgba(0, 0, 0, 0.3));\n",
              "      fill: #FFFFFF;\n",
              "    }\n",
              "  </style>\n",
              "\n",
              "      <script>\n",
              "        const buttonEl =\n",
              "          document.querySelector('#df-fc25a372-305e-4058-97c8-d83c2422200c button.colab-df-convert');\n",
              "        buttonEl.style.display =\n",
              "          google.colab.kernel.accessAllowed ? 'block' : 'none';\n",
              "\n",
              "        async function convertToInteractive(key) {\n",
              "          const element = document.querySelector('#df-fc25a372-305e-4058-97c8-d83c2422200c');\n",
              "          const dataTable =\n",
              "            await google.colab.kernel.invokeFunction('convertToInteractive',\n",
              "                                                     [key], {});\n",
              "          if (!dataTable) return;\n",
              "\n",
              "          const docLinkHtml = 'Like what you see? Visit the ' +\n",
              "            '<a target=\"_blank\" href=https://colab.research.google.com/notebooks/data_table.ipynb>data table notebook</a>'\n",
              "            + ' to learn more about interactive tables.';\n",
              "          element.innerHTML = '';\n",
              "          dataTable['output_type'] = 'display_data';\n",
              "          await google.colab.output.renderOutput(dataTable, element);\n",
              "          const docLink = document.createElement('div');\n",
              "          docLink.innerHTML = docLinkHtml;\n",
              "          element.appendChild(docLink);\n",
              "        }\n",
              "      </script>\n",
              "    </div>\n",
              "  </div>\n",
              "  "
            ],
            "text/plain": [
              "              count           mean            std     min      25%      50%  \\\n",
              "Date         6178.0    2005.952574      15.910248  1922.0   1998.0   2011.0   \n",
              "Rate         5993.0       6.876673       1.081994     1.2      6.2      7.0   \n",
              "Votes        5993.0  122363.591857  193047.476169    31.0  14165.0  56565.0   \n",
              "Duration     5877.0      94.576995      41.765795     2.0     70.0    100.0   \n",
              "Type         6178.0       0.719650       0.449206     0.0      0.0      1.0   \n",
              "Certificate  6178.0       1.515053       0.869416     0.0      1.0      2.0   \n",
              "Nudity       6178.0       1.003723       0.925675     0.0      0.0      1.0   \n",
              "Violence     6178.0       1.459210       1.053546     0.0      1.0      1.0   \n",
              "Profanity    6178.0       1.379896       1.015134     0.0      1.0      1.0   \n",
              "Alcohol      6178.0       1.006798       0.782448     0.0      0.0      1.0   \n",
              "Frightening  6178.0       1.334251       1.035142     0.0      0.0      1.0   \n",
              "\n",
              "                  75%        max  \n",
              "Date           2019.0     2023.0  \n",
              "Rate              7.6        9.7  \n",
              "Votes        147643.0  2474122.0  \n",
              "Duration        116.0      900.0  \n",
              "Type              1.0        1.0  \n",
              "Certificate       2.0        3.0  \n",
              "Nudity            2.0        3.0  \n",
              "Violence          2.0        3.0  \n",
              "Profanity         2.0        3.0  \n",
              "Alcohol           1.0        3.0  \n",
              "Frightening       2.0        3.0  "
            ]
          },
          "metadata": {},
          "execution_count": 97
        }
      ]
    },
    {
      "cell_type": "code",
      "source": [
        "df_nuevo = df_nuevo.dropna(axis=0, subset=['Rate'])"
      ],
      "metadata": {
        "id": "P4isLNWCBgke"
      },
      "execution_count": null,
      "outputs": []
    },
    {
      "cell_type": "code",
      "source": [
        "df_nuevo"
      ],
      "metadata": {
        "id": "eDe0U3q9K0ms",
        "colab": {
          "base_uri": "https://localhost:8080/",
          "height": 424
        },
        "outputId": "abec8eb6-ca7a-4e58-8c41-93b94cfd7fdd"
      },
      "execution_count": null,
      "outputs": [
        {
          "output_type": "execute_result",
          "data": {
            "text/html": [
              "\n",
              "  <div id=\"df-826390b5-ae13-47f3-9272-ffa76878dac0\">\n",
              "    <div class=\"colab-df-container\">\n",
              "      <div>\n",
              "<style scoped>\n",
              "    .dataframe tbody tr th:only-of-type {\n",
              "        vertical-align: middle;\n",
              "    }\n",
              "\n",
              "    .dataframe tbody tr th {\n",
              "        vertical-align: top;\n",
              "    }\n",
              "\n",
              "    .dataframe thead th {\n",
              "        text-align: right;\n",
              "    }\n",
              "</style>\n",
              "<table border=\"1\" class=\"dataframe\">\n",
              "  <thead>\n",
              "    <tr style=\"text-align: right;\">\n",
              "      <th></th>\n",
              "      <th>Date</th>\n",
              "      <th>Rate</th>\n",
              "      <th>Votes</th>\n",
              "      <th>Duration</th>\n",
              "      <th>Type</th>\n",
              "      <th>Certificate</th>\n",
              "      <th>Nudity</th>\n",
              "      <th>Violence</th>\n",
              "      <th>Profanity</th>\n",
              "      <th>Alcohol</th>\n",
              "      <th>Frightening</th>\n",
              "    </tr>\n",
              "  </thead>\n",
              "  <tbody>\n",
              "    <tr>\n",
              "      <th>0</th>\n",
              "      <td>2021</td>\n",
              "      <td>7.6</td>\n",
              "      <td>107163.0</td>\n",
              "      <td>163.0</td>\n",
              "      <td>1</td>\n",
              "      <td>1.0</td>\n",
              "      <td>1</td>\n",
              "      <td>2</td>\n",
              "      <td>1</td>\n",
              "      <td>1</td>\n",
              "      <td>2</td>\n",
              "    </tr>\n",
              "    <tr>\n",
              "      <th>1</th>\n",
              "      <td>2021</td>\n",
              "      <td>6.3</td>\n",
              "      <td>64375.0</td>\n",
              "      <td>90.0</td>\n",
              "      <td>1</td>\n",
              "      <td>2.0</td>\n",
              "      <td>0</td>\n",
              "      <td>0</td>\n",
              "      <td>3</td>\n",
              "      <td>0</td>\n",
              "      <td>2</td>\n",
              "    </tr>\n",
              "    <tr>\n",
              "      <th>2</th>\n",
              "      <td>2021</td>\n",
              "      <td>6.4</td>\n",
              "      <td>27145.0</td>\n",
              "      <td>120.0</td>\n",
              "      <td>1</td>\n",
              "      <td>2.0</td>\n",
              "      <td>2</td>\n",
              "      <td>3</td>\n",
              "      <td>3</td>\n",
              "      <td>2</td>\n",
              "      <td>2</td>\n",
              "    </tr>\n",
              "    <tr>\n",
              "      <th>3</th>\n",
              "      <td>2021</td>\n",
              "      <td>6.4</td>\n",
              "      <td>30443.0</td>\n",
              "      <td>97.0</td>\n",
              "      <td>1</td>\n",
              "      <td>1.0</td>\n",
              "      <td>0</td>\n",
              "      <td>2</td>\n",
              "      <td>2</td>\n",
              "      <td>1</td>\n",
              "      <td>2</td>\n",
              "    </tr>\n",
              "    <tr>\n",
              "      <th>4</th>\n",
              "      <td>2021</td>\n",
              "      <td>8.3</td>\n",
              "      <td>84636.0</td>\n",
              "      <td>155.0</td>\n",
              "      <td>1</td>\n",
              "      <td>1.0</td>\n",
              "      <td>0</td>\n",
              "      <td>2</td>\n",
              "      <td>0</td>\n",
              "      <td>1</td>\n",
              "      <td>2</td>\n",
              "    </tr>\n",
              "    <tr>\n",
              "      <th>...</th>\n",
              "      <td>...</td>\n",
              "      <td>...</td>\n",
              "      <td>...</td>\n",
              "      <td>...</td>\n",
              "      <td>...</td>\n",
              "      <td>...</td>\n",
              "      <td>...</td>\n",
              "      <td>...</td>\n",
              "      <td>...</td>\n",
              "      <td>...</td>\n",
              "      <td>...</td>\n",
              "    </tr>\n",
              "    <tr>\n",
              "      <th>6173</th>\n",
              "      <td>2011</td>\n",
              "      <td>3.8</td>\n",
              "      <td>37492.0</td>\n",
              "      <td>91.0</td>\n",
              "      <td>1</td>\n",
              "      <td>3.0</td>\n",
              "      <td>3</td>\n",
              "      <td>3</td>\n",
              "      <td>3</td>\n",
              "      <td>1</td>\n",
              "      <td>3</td>\n",
              "    </tr>\n",
              "    <tr>\n",
              "      <th>6174</th>\n",
              "      <td>1944</td>\n",
              "      <td>8.3</td>\n",
              "      <td>150448.0</td>\n",
              "      <td>107.0</td>\n",
              "      <td>1</td>\n",
              "      <td>0.0</td>\n",
              "      <td>0</td>\n",
              "      <td>1</td>\n",
              "      <td>0</td>\n",
              "      <td>1</td>\n",
              "      <td>1</td>\n",
              "    </tr>\n",
              "    <tr>\n",
              "      <th>6175</th>\n",
              "      <td>2007</td>\n",
              "      <td>7.3</td>\n",
              "      <td>100668.0</td>\n",
              "      <td>117.0</td>\n",
              "      <td>1</td>\n",
              "      <td>2.0</td>\n",
              "      <td>3</td>\n",
              "      <td>2</td>\n",
              "      <td>3</td>\n",
              "      <td>3</td>\n",
              "      <td>3</td>\n",
              "    </tr>\n",
              "    <tr>\n",
              "      <th>6176</th>\n",
              "      <td>2021</td>\n",
              "      <td>6.0</td>\n",
              "      <td>887.0</td>\n",
              "      <td>100.0</td>\n",
              "      <td>1</td>\n",
              "      <td>1.0</td>\n",
              "      <td>0</td>\n",
              "      <td>0</td>\n",
              "      <td>1</td>\n",
              "      <td>2</td>\n",
              "      <td>0</td>\n",
              "    </tr>\n",
              "    <tr>\n",
              "      <th>6177</th>\n",
              "      <td>2008</td>\n",
              "      <td>6.3</td>\n",
              "      <td>203578.0</td>\n",
              "      <td>105.0</td>\n",
              "      <td>1</td>\n",
              "      <td>2.0</td>\n",
              "      <td>1</td>\n",
              "      <td>3</td>\n",
              "      <td>3</td>\n",
              "      <td>1</td>\n",
              "      <td>2</td>\n",
              "    </tr>\n",
              "  </tbody>\n",
              "</table>\n",
              "<p>5993 rows × 11 columns</p>\n",
              "</div>\n",
              "      <button class=\"colab-df-convert\" onclick=\"convertToInteractive('df-826390b5-ae13-47f3-9272-ffa76878dac0')\"\n",
              "              title=\"Convert this dataframe to an interactive table.\"\n",
              "              style=\"display:none;\">\n",
              "        \n",
              "  <svg xmlns=\"http://www.w3.org/2000/svg\" height=\"24px\"viewBox=\"0 0 24 24\"\n",
              "       width=\"24px\">\n",
              "    <path d=\"M0 0h24v24H0V0z\" fill=\"none\"/>\n",
              "    <path d=\"M18.56 5.44l.94 2.06.94-2.06 2.06-.94-2.06-.94-.94-2.06-.94 2.06-2.06.94zm-11 1L8.5 8.5l.94-2.06 2.06-.94-2.06-.94L8.5 2.5l-.94 2.06-2.06.94zm10 10l.94 2.06.94-2.06 2.06-.94-2.06-.94-.94-2.06-.94 2.06-2.06.94z\"/><path d=\"M17.41 7.96l-1.37-1.37c-.4-.4-.92-.59-1.43-.59-.52 0-1.04.2-1.43.59L10.3 9.45l-7.72 7.72c-.78.78-.78 2.05 0 2.83L4 21.41c.39.39.9.59 1.41.59.51 0 1.02-.2 1.41-.59l7.78-7.78 2.81-2.81c.8-.78.8-2.07 0-2.86zM5.41 20L4 18.59l7.72-7.72 1.47 1.35L5.41 20z\"/>\n",
              "  </svg>\n",
              "      </button>\n",
              "      \n",
              "  <style>\n",
              "    .colab-df-container {\n",
              "      display:flex;\n",
              "      flex-wrap:wrap;\n",
              "      gap: 12px;\n",
              "    }\n",
              "\n",
              "    .colab-df-convert {\n",
              "      background-color: #E8F0FE;\n",
              "      border: none;\n",
              "      border-radius: 50%;\n",
              "      cursor: pointer;\n",
              "      display: none;\n",
              "      fill: #1967D2;\n",
              "      height: 32px;\n",
              "      padding: 0 0 0 0;\n",
              "      width: 32px;\n",
              "    }\n",
              "\n",
              "    .colab-df-convert:hover {\n",
              "      background-color: #E2EBFA;\n",
              "      box-shadow: 0px 1px 2px rgba(60, 64, 67, 0.3), 0px 1px 3px 1px rgba(60, 64, 67, 0.15);\n",
              "      fill: #174EA6;\n",
              "    }\n",
              "\n",
              "    [theme=dark] .colab-df-convert {\n",
              "      background-color: #3B4455;\n",
              "      fill: #D2E3FC;\n",
              "    }\n",
              "\n",
              "    [theme=dark] .colab-df-convert:hover {\n",
              "      background-color: #434B5C;\n",
              "      box-shadow: 0px 1px 3px 1px rgba(0, 0, 0, 0.15);\n",
              "      filter: drop-shadow(0px 1px 2px rgba(0, 0, 0, 0.3));\n",
              "      fill: #FFFFFF;\n",
              "    }\n",
              "  </style>\n",
              "\n",
              "      <script>\n",
              "        const buttonEl =\n",
              "          document.querySelector('#df-826390b5-ae13-47f3-9272-ffa76878dac0 button.colab-df-convert');\n",
              "        buttonEl.style.display =\n",
              "          google.colab.kernel.accessAllowed ? 'block' : 'none';\n",
              "\n",
              "        async function convertToInteractive(key) {\n",
              "          const element = document.querySelector('#df-826390b5-ae13-47f3-9272-ffa76878dac0');\n",
              "          const dataTable =\n",
              "            await google.colab.kernel.invokeFunction('convertToInteractive',\n",
              "                                                     [key], {});\n",
              "          if (!dataTable) return;\n",
              "\n",
              "          const docLinkHtml = 'Like what you see? Visit the ' +\n",
              "            '<a target=\"_blank\" href=https://colab.research.google.com/notebooks/data_table.ipynb>data table notebook</a>'\n",
              "            + ' to learn more about interactive tables.';\n",
              "          element.innerHTML = '';\n",
              "          dataTable['output_type'] = 'display_data';\n",
              "          await google.colab.output.renderOutput(dataTable, element);\n",
              "          const docLink = document.createElement('div');\n",
              "          docLink.innerHTML = docLinkHtml;\n",
              "          element.appendChild(docLink);\n",
              "        }\n",
              "      </script>\n",
              "    </div>\n",
              "  </div>\n",
              "  "
            ],
            "text/plain": [
              "      Date  Rate     Votes  Duration  Type  Certificate  Nudity  Violence  \\\n",
              "0     2021   7.6  107163.0     163.0     1          1.0       1         2   \n",
              "1     2021   6.3   64375.0      90.0     1          2.0       0         0   \n",
              "2     2021   6.4   27145.0     120.0     1          2.0       2         3   \n",
              "3     2021   6.4   30443.0      97.0     1          1.0       0         2   \n",
              "4     2021   8.3   84636.0     155.0     1          1.0       0         2   \n",
              "...    ...   ...       ...       ...   ...          ...     ...       ...   \n",
              "6173  2011   3.8   37492.0      91.0     1          3.0       3         3   \n",
              "6174  1944   8.3  150448.0     107.0     1          0.0       0         1   \n",
              "6175  2007   7.3  100668.0     117.0     1          2.0       3         2   \n",
              "6176  2021   6.0     887.0     100.0     1          1.0       0         0   \n",
              "6177  2008   6.3  203578.0     105.0     1          2.0       1         3   \n",
              "\n",
              "      Profanity  Alcohol  Frightening  \n",
              "0             1        1            2  \n",
              "1             3        0            2  \n",
              "2             3        2            2  \n",
              "3             2        1            2  \n",
              "4             0        1            2  \n",
              "...         ...      ...          ...  \n",
              "6173          3        1            3  \n",
              "6174          0        1            1  \n",
              "6175          3        3            3  \n",
              "6176          1        2            0  \n",
              "6177          3        1            2  \n",
              "\n",
              "[5993 rows x 11 columns]"
            ]
          },
          "metadata": {},
          "execution_count": 99
        }
      ]
    },
    {
      "cell_type": "code",
      "source": [
        "df_nuevo.hist()"
      ],
      "metadata": {
        "id": "xq6EpKbNRBSP",
        "colab": {
          "base_uri": "https://localhost:8080/",
          "height": 510
        },
        "outputId": "fff00915-b9d9-45c1-927a-38b7521d7b26"
      },
      "execution_count": null,
      "outputs": [
        {
          "output_type": "execute_result",
          "data": {
            "text/plain": [
              "array([[<matplotlib.axes._subplots.AxesSubplot object at 0x7f12d94bb9d0>,\n",
              "        <matplotlib.axes._subplots.AxesSubplot object at 0x7f12d945a550>,\n",
              "        <matplotlib.axes._subplots.AxesSubplot object at 0x7f12d9485a50>],\n",
              "       [<matplotlib.axes._subplots.AxesSubplot object at 0x7f12d943cf50>,\n",
              "        <matplotlib.axes._subplots.AxesSubplot object at 0x7f12d93fd490>,\n",
              "        <matplotlib.axes._subplots.AxesSubplot object at 0x7f12d93b6990>],\n",
              "       [<matplotlib.axes._subplots.AxesSubplot object at 0x7f12d936be90>,\n",
              "        <matplotlib.axes._subplots.AxesSubplot object at 0x7f12d932f3d0>,\n",
              "        <matplotlib.axes._subplots.AxesSubplot object at 0x7f12d92e4910>],\n",
              "       [<matplotlib.axes._subplots.AxesSubplot object at 0x7f12d929ae10>,\n",
              "        <matplotlib.axes._subplots.AxesSubplot object at 0x7f12d925d310>,\n",
              "        <matplotlib.axes._subplots.AxesSubplot object at 0x7f12d9213810>]],\n",
              "      dtype=object)"
            ]
          },
          "metadata": {},
          "execution_count": 100
        },
        {
          "output_type": "display_data",
          "data": {
            "image/png": "[encoded data removed]",
            "text/plain": [
              "<Figure size 432x288 with 12 Axes>"
            ]
          },
          "metadata": {}
        }
      ]
    },
    {
      "cell_type": "code",
      "source": [
        "def trainTestSplit(X,y):\n",
        "  X_train,X_test,y_train,y_test=train_test_split(X,y,test_size=0.3)\n",
        "  return X_train,X_test,y_train,y_test\n",
        "\n",
        "def generarPCA(n_componentes,X):\n",
        "  pca = PCA(n_components=n_componentes)\n",
        "  cp = pca.fit_transform(X)\n",
        "  return pd.DataFrame(data=cp)"
      ],
      "metadata": {
        "id": "UNYnZ88b-T2M"
      },
      "execution_count": null,
      "outputs": []
    },
    {
      "cell_type": "code",
      "source": [
        "X = df_nuevo.drop(['Rate'], axis=1)\n",
        "y = df_nuevo['Rate']"
      ],
      "metadata": {
        "id": "1f_fgCzuBn1c"
      },
      "execution_count": null,
      "outputs": []
    },
    {
      "cell_type": "code",
      "source": [
        "X"
      ],
      "metadata": {
        "colab": {
          "base_uri": "https://localhost:8080/",
          "height": 424
        },
        "id": "5o9RaXlNP0we",
        "outputId": "56f61372-744f-4d22-86ba-31d9526b1aaf"
      },
      "execution_count": null,
      "outputs": [
        {
          "output_type": "execute_result",
          "data": {
            "text/html": [
              "\n",
              "  <div id=\"df-b42146e2-9b5c-49d7-9d3b-8a30fc7df8d6\">\n",
              "    <div class=\"colab-df-container\">\n",
              "      <div>\n",
              "<style scoped>\n",
              "    .dataframe tbody tr th:only-of-type {\n",
              "        vertical-align: middle;\n",
              "    }\n",
              "\n",
              "    .dataframe tbody tr th {\n",
              "        vertical-align: top;\n",
              "    }\n",
              "\n",
              "    .dataframe thead th {\n",
              "        text-align: right;\n",
              "    }\n",
              "</style>\n",
              "<table border=\"1\" class=\"dataframe\">\n",
              "  <thead>\n",
              "    <tr style=\"text-align: right;\">\n",
              "      <th></th>\n",
              "      <th>Date</th>\n",
              "      <th>Votes</th>\n",
              "      <th>Duration</th>\n",
              "      <th>Type</th>\n",
              "      <th>Certificate</th>\n",
              "      <th>Nudity</th>\n",
              "      <th>Violence</th>\n",
              "      <th>Profanity</th>\n",
              "      <th>Alcohol</th>\n",
              "      <th>Frightening</th>\n",
              "    </tr>\n",
              "  </thead>\n",
              "  <tbody>\n",
              "    <tr>\n",
              "      <th>0</th>\n",
              "      <td>2021</td>\n",
              "      <td>107163.0</td>\n",
              "      <td>163.0</td>\n",
              "      <td>1</td>\n",
              "      <td>1.0</td>\n",
              "      <td>1</td>\n",
              "      <td>2</td>\n",
              "      <td>1</td>\n",
              "      <td>1</td>\n",
              "      <td>2</td>\n",
              "    </tr>\n",
              "    <tr>\n",
              "      <th>1</th>\n",
              "      <td>2021</td>\n",
              "      <td>64375.0</td>\n",
              "      <td>90.0</td>\n",
              "      <td>1</td>\n",
              "      <td>2.0</td>\n",
              "      <td>0</td>\n",
              "      <td>0</td>\n",
              "      <td>3</td>\n",
              "      <td>0</td>\n",
              "      <td>2</td>\n",
              "    </tr>\n",
              "    <tr>\n",
              "      <th>2</th>\n",
              "      <td>2021</td>\n",
              "      <td>27145.0</td>\n",
              "      <td>120.0</td>\n",
              "      <td>1</td>\n",
              "      <td>2.0</td>\n",
              "      <td>2</td>\n",
              "      <td>3</td>\n",
              "      <td>3</td>\n",
              "      <td>2</td>\n",
              "      <td>2</td>\n",
              "    </tr>\n",
              "    <tr>\n",
              "      <th>3</th>\n",
              "      <td>2021</td>\n",
              "      <td>30443.0</td>\n",
              "      <td>97.0</td>\n",
              "      <td>1</td>\n",
              "      <td>1.0</td>\n",
              "      <td>0</td>\n",
              "      <td>2</td>\n",
              "      <td>2</td>\n",
              "      <td>1</td>\n",
              "      <td>2</td>\n",
              "    </tr>\n",
              "    <tr>\n",
              "      <th>4</th>\n",
              "      <td>2021</td>\n",
              "      <td>84636.0</td>\n",
              "      <td>155.0</td>\n",
              "      <td>1</td>\n",
              "      <td>1.0</td>\n",
              "      <td>0</td>\n",
              "      <td>2</td>\n",
              "      <td>0</td>\n",
              "      <td>1</td>\n",
              "      <td>2</td>\n",
              "    </tr>\n",
              "    <tr>\n",
              "      <th>...</th>\n",
              "      <td>...</td>\n",
              "      <td>...</td>\n",
              "      <td>...</td>\n",
              "      <td>...</td>\n",
              "      <td>...</td>\n",
              "      <td>...</td>\n",
              "      <td>...</td>\n",
              "      <td>...</td>\n",
              "      <td>...</td>\n",
              "      <td>...</td>\n",
              "    </tr>\n",
              "    <tr>\n",
              "      <th>6173</th>\n",
              "      <td>2011</td>\n",
              "      <td>37492.0</td>\n",
              "      <td>91.0</td>\n",
              "      <td>1</td>\n",
              "      <td>3.0</td>\n",
              "      <td>3</td>\n",
              "      <td>3</td>\n",
              "      <td>3</td>\n",
              "      <td>1</td>\n",
              "      <td>3</td>\n",
              "    </tr>\n",
              "    <tr>\n",
              "      <th>6174</th>\n",
              "      <td>1944</td>\n",
              "      <td>150448.0</td>\n",
              "      <td>107.0</td>\n",
              "      <td>1</td>\n",
              "      <td>0.0</td>\n",
              "      <td>0</td>\n",
              "      <td>1</td>\n",
              "      <td>0</td>\n",
              "      <td>1</td>\n",
              "      <td>1</td>\n",
              "    </tr>\n",
              "    <tr>\n",
              "      <th>6175</th>\n",
              "      <td>2007</td>\n",
              "      <td>100668.0</td>\n",
              "      <td>117.0</td>\n",
              "      <td>1</td>\n",
              "      <td>2.0</td>\n",
              "      <td>3</td>\n",
              "      <td>2</td>\n",
              "      <td>3</td>\n",
              "      <td>3</td>\n",
              "      <td>3</td>\n",
              "    </tr>\n",
              "    <tr>\n",
              "      <th>6176</th>\n",
              "      <td>2021</td>\n",
              "      <td>887.0</td>\n",
              "      <td>100.0</td>\n",
              "      <td>1</td>\n",
              "      <td>1.0</td>\n",
              "      <td>0</td>\n",
              "      <td>0</td>\n",
              "      <td>1</td>\n",
              "      <td>2</td>\n",
              "      <td>0</td>\n",
              "    </tr>\n",
              "    <tr>\n",
              "      <th>6177</th>\n",
              "      <td>2008</td>\n",
              "      <td>203578.0</td>\n",
              "      <td>105.0</td>\n",
              "      <td>1</td>\n",
              "      <td>2.0</td>\n",
              "      <td>1</td>\n",
              "      <td>3</td>\n",
              "      <td>3</td>\n",
              "      <td>1</td>\n",
              "      <td>2</td>\n",
              "    </tr>\n",
              "  </tbody>\n",
              "</table>\n",
              "<p>5993 rows × 10 columns</p>\n",
              "</div>\n",
              "      <button class=\"colab-df-convert\" onclick=\"convertToInteractive('df-b42146e2-9b5c-49d7-9d3b-8a30fc7df8d6')\"\n",
              "              title=\"Convert this dataframe to an interactive table.\"\n",
              "              style=\"display:none;\">\n",
              "        \n",
              "  <svg xmlns=\"http://www.w3.org/2000/svg\" height=\"24px\"viewBox=\"0 0 24 24\"\n",
              "       width=\"24px\">\n",
              "    <path d=\"M0 0h24v24H0V0z\" fill=\"none\"/>\n",
              "    <path d=\"M18.56 5.44l.94 2.06.94-2.06 2.06-.94-2.06-.94-.94-2.06-.94 2.06-2.06.94zm-11 1L8.5 8.5l.94-2.06 2.06-.94-2.06-.94L8.5 2.5l-.94 2.06-2.06.94zm10 10l.94 2.06.94-2.06 2.06-.94-2.06-.94-.94-2.06-.94 2.06-2.06.94z\"/><path d=\"M17.41 7.96l-1.37-1.37c-.4-.4-.92-.59-1.43-.59-.52 0-1.04.2-1.43.59L10.3 9.45l-7.72 7.72c-.78.78-.78 2.05 0 2.83L4 21.41c.39.39.9.59 1.41.59.51 0 1.02-.2 1.41-.59l7.78-7.78 2.81-2.81c.8-.78.8-2.07 0-2.86zM5.41 20L4 18.59l7.72-7.72 1.47 1.35L5.41 20z\"/>\n",
              "  </svg>\n",
              "      </button>\n",
              "      \n",
              "  <style>\n",
              "    .colab-df-container {\n",
              "      display:flex;\n",
              "      flex-wrap:wrap;\n",
              "      gap: 12px;\n",
              "    }\n",
              "\n",
              "    .colab-df-convert {\n",
              "      background-color: #E8F0FE;\n",
              "      border: none;\n",
              "      border-radius: 50%;\n",
              "      cursor: pointer;\n",
              "      display: none;\n",
              "      fill: #1967D2;\n",
              "      height: 32px;\n",
              "      padding: 0 0 0 0;\n",
              "      width: 32px;\n",
              "    }\n",
              "\n",
              "    .colab-df-convert:hover {\n",
              "      background-color: #E2EBFA;\n",
              "      box-shadow: 0px 1px 2px rgba(60, 64, 67, 0.3), 0px 1px 3px 1px rgba(60, 64, 67, 0.15);\n",
              "      fill: #174EA6;\n",
              "    }\n",
              "\n",
              "    [theme=dark] .colab-df-convert {\n",
              "      background-color: #3B4455;\n",
              "      fill: #D2E3FC;\n",
              "    }\n",
              "\n",
              "    [theme=dark] .colab-df-convert:hover {\n",
              "      background-color: #434B5C;\n",
              "      box-shadow: 0px 1px 3px 1px rgba(0, 0, 0, 0.15);\n",
              "      filter: drop-shadow(0px 1px 2px rgba(0, 0, 0, 0.3));\n",
              "      fill: #FFFFFF;\n",
              "    }\n",
              "  </style>\n",
              "\n",
              "      <script>\n",
              "        const buttonEl =\n",
              "          document.querySelector('#df-b42146e2-9b5c-49d7-9d3b-8a30fc7df8d6 button.colab-df-convert');\n",
              "        buttonEl.style.display =\n",
              "          google.colab.kernel.accessAllowed ? 'block' : 'none';\n",
              "\n",
              "        async function convertToInteractive(key) {\n",
              "          const element = document.querySelector('#df-b42146e2-9b5c-49d7-9d3b-8a30fc7df8d6');\n",
              "          const dataTable =\n",
              "            await google.colab.kernel.invokeFunction('convertToInteractive',\n",
              "                                                     [key], {});\n",
              "          if (!dataTable) return;\n",
              "\n",
              "          const docLinkHtml = 'Like what you see? Visit the ' +\n",
              "            '<a target=\"_blank\" href=https://colab.research.google.com/notebooks/data_table.ipynb>data table notebook</a>'\n",
              "            + ' to learn more about interactive tables.';\n",
              "          element.innerHTML = '';\n",
              "          dataTable['output_type'] = 'display_data';\n",
              "          await google.colab.output.renderOutput(dataTable, element);\n",
              "          const docLink = document.createElement('div');\n",
              "          docLink.innerHTML = docLinkHtml;\n",
              "          element.appendChild(docLink);\n",
              "        }\n",
              "      </script>\n",
              "    </div>\n",
              "  </div>\n",
              "  "
            ],
            "text/plain": [
              "      Date     Votes  Duration  Type  Certificate  Nudity  Violence  \\\n",
              "0     2021  107163.0     163.0     1          1.0       1         2   \n",
              "1     2021   64375.0      90.0     1          2.0       0         0   \n",
              "2     2021   27145.0     120.0     1          2.0       2         3   \n",
              "3     2021   30443.0      97.0     1          1.0       0         2   \n",
              "4     2021   84636.0     155.0     1          1.0       0         2   \n",
              "...    ...       ...       ...   ...          ...     ...       ...   \n",
              "6173  2011   37492.0      91.0     1          3.0       3         3   \n",
              "6174  1944  150448.0     107.0     1          0.0       0         1   \n",
              "6175  2007  100668.0     117.0     1          2.0       3         2   \n",
              "6176  2021     887.0     100.0     1          1.0       0         0   \n",
              "6177  2008  203578.0     105.0     1          2.0       1         3   \n",
              "\n",
              "      Profanity  Alcohol  Frightening  \n",
              "0             1        1            2  \n",
              "1             3        0            2  \n",
              "2             3        2            2  \n",
              "3             2        1            2  \n",
              "4             0        1            2  \n",
              "...         ...      ...          ...  \n",
              "6173          3        1            3  \n",
              "6174          0        1            1  \n",
              "6175          3        3            3  \n",
              "6176          1        2            0  \n",
              "6177          3        1            2  \n",
              "\n",
              "[5993 rows x 10 columns]"
            ]
          },
          "metadata": {},
          "execution_count": 103
        }
      ]
    },
    {
      "cell_type": "code",
      "source": [
        "X.isnull().sum()"
      ],
      "metadata": {
        "colab": {
          "base_uri": "https://localhost:8080/"
        },
        "id": "2nIhYIhGXz0B",
        "outputId": "67c9f2e5-36de-4097-adb9-6c03df9444bd"
      },
      "execution_count": null,
      "outputs": [
        {
          "output_type": "execute_result",
          "data": {
            "text/plain": [
              "Date             0\n",
              "Votes            0\n",
              "Duration       147\n",
              "Type             0\n",
              "Certificate      0\n",
              "Nudity           0\n",
              "Violence         0\n",
              "Profanity        0\n",
              "Alcohol          0\n",
              "Frightening      0\n",
              "dtype: int64"
            ]
          },
          "metadata": {},
          "execution_count": 104
        }
      ]
    },
    {
      "cell_type": "code",
      "source": [
        "X = X.fillna(X.mean())"
      ],
      "metadata": {
        "id": "Wi91hm7kRW5L"
      },
      "execution_count": null,
      "outputs": []
    },
    {
      "cell_type": "code",
      "source": [
        "X.isnull().sum()"
      ],
      "metadata": {
        "colab": {
          "base_uri": "https://localhost:8080/"
        },
        "id": "NFiOtLk2X3n9",
        "outputId": "1e1abd9e-9b18-4dae-f303-183442b78624"
      },
      "execution_count": null,
      "outputs": [
        {
          "output_type": "execute_result",
          "data": {
            "text/plain": [
              "Date           0\n",
              "Votes          0\n",
              "Duration       0\n",
              "Type           0\n",
              "Certificate    0\n",
              "Nudity         0\n",
              "Violence       0\n",
              "Profanity      0\n",
              "Alcohol        0\n",
              "Frightening    0\n",
              "dtype: int64"
            ]
          },
          "metadata": {},
          "execution_count": 106
        }
      ]
    },
    {
      "cell_type": "code",
      "source": [
        "X.info()"
      ],
      "metadata": {
        "colab": {
          "base_uri": "https://localhost:8080/"
        },
        "id": "oc4Mh038RjQu",
        "outputId": "41510d8b-5688-42d3-cf79-cc635847e33d"
      },
      "execution_count": null,
      "outputs": [
        {
          "output_type": "stream",
          "name": "stdout",
          "text": [
            "<class 'pandas.core.frame.DataFrame'>\n",
            "Int64Index: 5993 entries, 0 to 6177\n",
            "Data columns (total 10 columns):\n",
            " #   Column       Non-Null Count  Dtype  \n",
            "---  ------       --------------  -----  \n",
            " 0   Date         5993 non-null   int64  \n",
            " 1   Votes        5993 non-null   float64\n",
            " 2   Duration     5993 non-null   float64\n",
            " 3   Type         5993 non-null   int64  \n",
            " 4   Certificate  5993 non-null   float64\n",
            " 5   Nudity       5993 non-null   int64  \n",
            " 6   Violence     5993 non-null   int64  \n",
            " 7   Profanity    5993 non-null   int64  \n",
            " 8   Alcohol      5993 non-null   int64  \n",
            " 9   Frightening  5993 non-null   int64  \n",
            "dtypes: float64(3), int64(7)\n",
            "memory usage: 515.0 KB\n"
          ]
        }
      ]
    },
    {
      "cell_type": "code",
      "source": [
        "scaler = MinMaxScaler()\n",
        "scaler.fit(X)\n",
        "X = scaler.transform(X)\n",
        "pickle.dump(scaler, open('scaler.sav', 'wb'))\n",
        "\n"
      ],
      "metadata": {
        "id": "oW7wp_20Yp91"
      },
      "execution_count": null,
      "outputs": []
    },
    {
      "cell_type": "code",
      "source": [
        "X"
      ],
      "metadata": {
        "colab": {
          "base_uri": "https://localhost:8080/"
        },
        "id": "bnlBuTZTY936",
        "outputId": "564af775-e768-43fd-9462-4f4f30930fef"
      },
      "execution_count": null,
      "outputs": [
        {
          "output_type": "execute_result",
          "data": {
            "text/plain": [
              "array([[9.80198020e-01, 4.33015600e-02, 1.79287305e-01, ...,\n",
              "        3.33333333e-01, 3.33333333e-01, 6.66666667e-01],\n",
              "       [9.80198020e-01, 2.60071275e-02, 9.79955457e-02, ...,\n",
              "        1.00000000e+00, 0.00000000e+00, 6.66666667e-01],\n",
              "       [9.80198020e-01, 1.09591765e-02, 1.31403118e-01, ...,\n",
              "        1.00000000e+00, 6.66666667e-01, 6.66666667e-01],\n",
              "       ...,\n",
              "       [8.41584158e-01, 4.06763535e-02, 1.28062361e-01, ...,\n",
              "        1.00000000e+00, 1.00000000e+00, 1.00000000e+00],\n",
              "       [9.80198020e-01, 3.45985657e-04, 1.09131403e-01, ...,\n",
              "        3.33333333e-01, 6.66666667e-01, 0.00000000e+00],\n",
              "       [8.51485149e-01, 8.22714282e-02, 1.14699332e-01, ...,\n",
              "        1.00000000e+00, 3.33333333e-01, 6.66666667e-01]])"
            ]
          },
          "metadata": {},
          "execution_count": 109
        }
      ]
    },
    {
      "cell_type": "code",
      "source": [
        "X_train,X_test, y_train,y_test = trainTestSplit(X,y)"
      ],
      "metadata": {
        "id": "CEp-HV6MQiE9"
      },
      "execution_count": null,
      "outputs": []
    },
    {
      "cell_type": "code",
      "source": [
        "'''\n",
        "si = SimpleImputer()\n",
        "mice = MICE()\n",
        "#X_train = mice.fit_transform(X_train)\n",
        "#X_test = mice.fit_transform(X_test)\n",
        "\n",
        "#X_train = pd.DataFrame(si.fit_transform(X_train))\n",
        "#X_test = pd.DataFrame(si.fit_transform(X_test))\n",
        "#X_train = generarPCA(2,X_train)\n",
        "#X_test = generarPCA(2,X_test)\n",
        "X_train = X_train.fillna(X_train.mean())\n",
        "X_test = X_test.fillna(X_test.mean())\n",
        "scaler = MinMaxScaler()\n",
        "scaler.fit(X_test)\n",
        "scaler.fit(X_train)\n",
        "X_train = scaler.transform(X_train)\n",
        "X_test = scaler.transform(X_test)\n",
        "pickle.dump(scaler, open('scaler.sav', 'wb'))\n",
        "'''"
      ],
      "metadata": {
        "id": "_6AGu5G_CGYO",
        "colab": {
          "base_uri": "https://localhost:8080/",
          "height": 70
        },
        "outputId": "12125386-fa0c-4eff-9b0e-819a5cefe453"
      },
      "execution_count": null,
      "outputs": [
        {
          "output_type": "execute_result",
          "data": {
            "application/vnd.google.colaboratory.intrinsic+json": {
              "type": "string"
            },
            "text/plain": [
              "\"\\nsi = SimpleImputer()\\nmice = MICE()\\n#X_train = mice.fit_transform(X_train)\\n#X_test = mice.fit_transform(X_test)\\n\\n#X_train = pd.DataFrame(si.fit_transform(X_train))\\n#X_test = pd.DataFrame(si.fit_transform(X_test))\\n#X_train = generarPCA(2,X_train)\\n#X_test = generarPCA(2,X_test)\\nX_train = X_train.fillna(X_train.mean())\\nX_test = X_test.fillna(X_test.mean())\\nscaler = MinMaxScaler()\\nscaler.fit(X_test)\\nscaler.fit(X_train)\\nX_train = scaler.transform(X_train)\\nX_test = scaler.transform(X_test)\\npickle.dump(scaler, open('scaler.sav', 'wb'))\\n\""
            ]
          },
          "metadata": {},
          "execution_count": 111
        }
      ]
    },
    {
      "cell_type": "markdown",
      "source": [
        "#ANN"
      ],
      "metadata": {
        "id": "gU7ukOxVPTiz"
      }
    },
    {
      "cell_type": "code",
      "source": [
        "model = Sequential()\n",
        "model.add(Dense(10, activation='relu'))\n",
        "model.add(Dense(5, activation='sigmoid'))\n",
        "model.add(Dense(1, activation='sigmoid'))\n",
        "model.compile(optimizer = 'adam', loss= 'mse')"
      ],
      "metadata": {
        "id": "9A8lsdrDGYjU"
      },
      "execution_count": null,
      "outputs": []
    },
    {
      "cell_type": "code",
      "source": [
        "model.fit(x=X_train, y = y_train, validation_data=(X_test,y_test),batch_size=80,epochs=50,verbose=1) "
      ],
      "metadata": {
        "id": "f1dnub3vGgxO",
        "colab": {
          "base_uri": "https://localhost:8080/"
        },
        "outputId": "091518ae-9c02-4781-c88c-59a3730dbc52"
      },
      "execution_count": null,
      "outputs": [
        {
          "output_type": "stream",
          "name": "stdout",
          "text": [
            "Epoch 1/50\n",
            "53/53 [==============================] - 2s 11ms/step - loss: 39.8216 - val_loss: 39.3957\n",
            "Epoch 2/50\n",
            "53/53 [==============================] - 0s 6ms/step - loss: 38.7394 - val_loss: 38.3552\n",
            "Epoch 3/50\n",
            "53/53 [==============================] - 0s 5ms/step - loss: 37.8805 - val_loss: 37.6977\n",
            "Epoch 4/50\n",
            "53/53 [==============================] - 0s 5ms/step - loss: 37.3656 - val_loss: 37.2968\n",
            "Epoch 5/50\n",
            "53/53 [==============================] - 0s 8ms/step - loss: 37.0268 - val_loss: 37.0056\n",
            "Epoch 6/50\n",
            "53/53 [==============================] - 0s 7ms/step - loss: 36.7656 - val_loss: 36.7743\n",
            "Epoch 7/50\n",
            "53/53 [==============================] - 0s 8ms/step - loss: 36.5634 - val_loss: 36.6015\n",
            "Epoch 8/50\n",
            "53/53 [==============================] - 0s 7ms/step - loss: 36.4139 - val_loss: 36.4734\n",
            "Epoch 9/50\n",
            "53/53 [==============================] - 0s 7ms/step - loss: 36.3017 - val_loss: 36.3755\n",
            "Epoch 10/50\n",
            "53/53 [==============================] - 0s 7ms/step - loss: 36.2149 - val_loss: 36.2988\n",
            "Epoch 11/50\n",
            "53/53 [==============================] - 1s 10ms/step - loss: 36.1459 - val_loss: 36.2369\n",
            "Epoch 12/50\n",
            "53/53 [==============================] - 0s 6ms/step - loss: 36.0897 - val_loss: 36.1862\n",
            "Epoch 13/50\n",
            "53/53 [==============================] - 1s 10ms/step - loss: 36.0434 - val_loss: 36.1441\n",
            "Epoch 14/50\n",
            "53/53 [==============================] - 1s 10ms/step - loss: 36.0047 - val_loss: 36.1087\n",
            "Epoch 15/50\n",
            "53/53 [==============================] - 1s 11ms/step - loss: 35.9720 - val_loss: 36.0785\n",
            "Epoch 16/50\n",
            "53/53 [==============================] - 0s 9ms/step - loss: 35.9440 - val_loss: 36.0527\n",
            "Epoch 17/50\n",
            "53/53 [==============================] - 1s 11ms/step - loss: 35.9199 - val_loss: 36.0303\n",
            "Epoch 18/50\n",
            "53/53 [==============================] - 0s 6ms/step - loss: 35.8989 - val_loss: 36.0107\n",
            "Epoch 19/50\n",
            "53/53 [==============================] - 0s 7ms/step - loss: 35.8805 - val_loss: 35.9935\n",
            "Epoch 20/50\n",
            "53/53 [==============================] - 0s 7ms/step - loss: 35.8643 - val_loss: 35.9782\n",
            "Epoch 21/50\n",
            "53/53 [==============================] - 0s 6ms/step - loss: 35.8499 - val_loss: 35.9647\n",
            "Epoch 22/50\n",
            "53/53 [==============================] - 0s 6ms/step - loss: 35.8371 - val_loss: 35.9525\n",
            "Epoch 23/50\n",
            "53/53 [==============================] - 0s 7ms/step - loss: 35.8256 - val_loss: 35.9416\n",
            "Epoch 24/50\n",
            "53/53 [==============================] - 0s 9ms/step - loss: 35.8152 - val_loss: 35.9318\n",
            "Epoch 25/50\n",
            "53/53 [==============================] - 0s 8ms/step - loss: 35.8058 - val_loss: 35.9228\n",
            "Epoch 26/50\n",
            "53/53 [==============================] - 0s 6ms/step - loss: 35.7973 - val_loss: 35.9147\n",
            "Epoch 27/50\n",
            "53/53 [==============================] - 0s 8ms/step - loss: 35.7895 - val_loss: 35.9073\n",
            "Epoch 28/50\n",
            "53/53 [==============================] - 1s 10ms/step - loss: 35.7824 - val_loss: 35.9005\n",
            "Epoch 29/50\n",
            "53/53 [==============================] - 1s 12ms/step - loss: 35.7760 - val_loss: 35.8943\n",
            "Epoch 30/50\n",
            "53/53 [==============================] - 0s 9ms/step - loss: 35.7700 - val_loss: 35.8886\n",
            "Epoch 31/50\n",
            "53/53 [==============================] - 0s 8ms/step - loss: 35.7645 - val_loss: 35.8833\n",
            "Epoch 32/50\n",
            "53/53 [==============================] - 0s 7ms/step - loss: 35.7594 - val_loss: 35.8784\n",
            "Epoch 33/50\n",
            "53/53 [==============================] - 0s 7ms/step - loss: 35.7547 - val_loss: 35.8739\n",
            "Epoch 34/50\n",
            "53/53 [==============================] - 0s 7ms/step - loss: 35.7503 - val_loss: 35.8697\n",
            "Epoch 35/50\n",
            "53/53 [==============================] - 0s 6ms/step - loss: 35.7463 - val_loss: 35.8658\n",
            "Epoch 36/50\n",
            "53/53 [==============================] - 0s 9ms/step - loss: 35.7425 - val_loss: 35.8622\n",
            "Epoch 37/50\n",
            "53/53 [==============================] - 0s 8ms/step - loss: 35.7390 - val_loss: 35.8588\n",
            "Epoch 38/50\n",
            "53/53 [==============================] - 0s 6ms/step - loss: 35.7357 - val_loss: 35.8556\n",
            "Epoch 39/50\n",
            "53/53 [==============================] - 0s 7ms/step - loss: 35.7326 - val_loss: 35.8526\n",
            "Epoch 40/50\n",
            "53/53 [==============================] - 0s 8ms/step - loss: 35.7297 - val_loss: 35.8498\n",
            "Epoch 41/50\n",
            "53/53 [==============================] - 1s 11ms/step - loss: 35.7270 - val_loss: 35.8472\n",
            "Epoch 42/50\n",
            "53/53 [==============================] - 1s 12ms/step - loss: 35.7245 - val_loss: 35.8447\n",
            "Epoch 43/50\n",
            "53/53 [==============================] - 1s 11ms/step - loss: 35.7221 - val_loss: 35.8424\n",
            "Epoch 44/50\n",
            "53/53 [==============================] - 0s 5ms/step - loss: 35.7198 - val_loss: 35.8402\n",
            "Epoch 45/50\n",
            "53/53 [==============================] - 0s 6ms/step - loss: 35.7177 - val_loss: 35.8381\n",
            "Epoch 46/50\n",
            "53/53 [==============================] - 0s 5ms/step - loss: 35.7157 - val_loss: 35.8362\n",
            "Epoch 47/50\n",
            "53/53 [==============================] - 0s 8ms/step - loss: 35.7138 - val_loss: 35.8343\n",
            "Epoch 48/50\n",
            "53/53 [==============================] - 0s 9ms/step - loss: 35.7120 - val_loss: 35.8326\n",
            "Epoch 49/50\n",
            "53/53 [==============================] - 0s 7ms/step - loss: 35.7103 - val_loss: 35.8309\n",
            "Epoch 50/50\n",
            "53/53 [==============================] - 1s 10ms/step - loss: 35.7086 - val_loss: 35.8293\n"
          ]
        },
        {
          "output_type": "execute_result",
          "data": {
            "text/plain": [
              "<keras.callbacks.History at 0x7f12d8ff18d0>"
            ]
          },
          "metadata": {},
          "execution_count": 113
        }
      ]
    },
    {
      "cell_type": "code",
      "source": [
        "loss= pd.DataFrame(model.history.history)\n",
        "plt.figure(figsize=(15,5))\n",
        "sns.lineplot(data=loss, lw=3)\n",
        "plt.xlabel('Epocas')\n",
        "sns.despine()"
      ],
      "metadata": {
        "id": "WJB4y2ThGnUq",
        "colab": {
          "base_uri": "https://localhost:8080/",
          "height": 342
        },
        "outputId": "9e32f2ef-ff0d-4523-c74b-01339f608f42"
      },
      "execution_count": null,
      "outputs": [
        {
          "output_type": "display_data",
          "data": {
            "image/png": "[encoded data removed]",
            "text/plain": [
              "<Figure size 1080x360 with 1 Axes>"
            ]
          },
          "metadata": {}
        }
      ]
    },
    {
      "cell_type": "code",
      "source": [
        "r2_score(y_train, model.predict(X_train))"
      ],
      "metadata": {
        "id": "qsnP2ETOHHym",
        "colab": {
          "base_uri": "https://localhost:8080/"
        },
        "outputId": "c767e47d-fe95-42bb-d94c-3070c889eced"
      },
      "execution_count": null,
      "outputs": [
        {
          "output_type": "execute_result",
          "data": {
            "text/plain": [
              "-29.955386270746565"
            ]
          },
          "metadata": {},
          "execution_count": 115
        }
      ]
    },
    {
      "cell_type": "code",
      "source": [
        "r2_score(y_test, model.predict(X_test))"
      ],
      "metadata": {
        "id": "iKvV6LoKHKje",
        "colab": {
          "base_uri": "https://localhost:8080/"
        },
        "outputId": "9901c556-e7a4-4258-b5b6-4529ce9cc93a"
      },
      "execution_count": null,
      "outputs": [
        {
          "output_type": "execute_result",
          "data": {
            "text/plain": [
              "-28.607763587717898"
            ]
          },
          "metadata": {},
          "execution_count": 116
        }
      ]
    },
    {
      "cell_type": "markdown",
      "source": [
        "#Random Forest"
      ],
      "metadata": {
        "id": "xPmFY36jPWDL"
      }
    },
    {
      "cell_type": "code",
      "source": [
        "modelRandom = RandomForestRegressor(n_estimators=10, random_state=0)\n",
        "modelRandom.fit(X_train,y_train)"
      ],
      "metadata": {
        "id": "FyWA_ZN6CnVl",
        "colab": {
          "base_uri": "https://localhost:8080/"
        },
        "outputId": "a1f50d27-c2e2-48b5-e94b-d2f27eed2219"
      },
      "execution_count": null,
      "outputs": [
        {
          "output_type": "execute_result",
          "data": {
            "text/plain": [
              "RandomForestRegressor(n_estimators=10, random_state=0)"
            ]
          },
          "metadata": {},
          "execution_count": 117
        }
      ]
    },
    {
      "cell_type": "code",
      "source": [
        "r2_score(y_train, modelRandom.predict(X_train))"
      ],
      "metadata": {
        "id": "hHybFxEcC7Rg",
        "colab": {
          "base_uri": "https://localhost:8080/"
        },
        "outputId": "bcd89c2b-0ed7-4c1d-d18e-2db38af93426"
      },
      "execution_count": null,
      "outputs": [
        {
          "output_type": "execute_result",
          "data": {
            "text/plain": [
              "0.9202278859992372"
            ]
          },
          "metadata": {},
          "execution_count": 118
        }
      ]
    },
    {
      "cell_type": "code",
      "source": [
        "r2_score(y_test, modelRandom.predict(X_test))"
      ],
      "metadata": {
        "id": "lsa68cbuC9cI",
        "colab": {
          "base_uri": "https://localhost:8080/"
        },
        "outputId": "fef2f2cc-e31f-48e8-c9fc-ef29c6dcf6ba"
      },
      "execution_count": null,
      "outputs": [
        {
          "output_type": "execute_result",
          "data": {
            "text/plain": [
              "0.5666335134231499"
            ]
          },
          "metadata": {},
          "execution_count": 119
        }
      ]
    },
    {
      "cell_type": "code",
      "source": [
        "pickle.dump(modelRandom, open('random_forest.sav', 'wb'))"
      ],
      "metadata": {
        "id": "RNILvhSpHm0V"
      },
      "execution_count": null,
      "outputs": []
    },
    {
      "cell_type": "code",
      "source": [
        "mean_absolute_error(y_test, modelRandom.predict(X_test))"
      ],
      "metadata": {
        "id": "dzuwCVCmDATF",
        "colab": {
          "base_uri": "https://localhost:8080/"
        },
        "outputId": "e61a18a0-1f5a-493e-f363-5f082ee56c2f"
      },
      "execution_count": null,
      "outputs": [
        {
          "output_type": "execute_result",
          "data": {
            "text/plain": [
              "0.5164571746384872"
            ]
          },
          "metadata": {},
          "execution_count": 121
        }
      ]
    },
    {
      "cell_type": "code",
      "source": [
        "mean_absolute_error(y_train, modelRandom.predict(X_train))"
      ],
      "metadata": {
        "id": "Iu95FshvDXke",
        "colab": {
          "base_uri": "https://localhost:8080/"
        },
        "outputId": "4ec7bd98-9e3b-466d-cf66-d0c62fc7978f"
      },
      "execution_count": null,
      "outputs": [
        {
          "output_type": "execute_result",
          "data": {
            "text/plain": [
              "0.19857926102502985"
            ]
          },
          "metadata": {},
          "execution_count": 122
        }
      ]
    },
    {
      "cell_type": "markdown",
      "source": [
        "#Regresion Lineal"
      ],
      "metadata": {
        "id": "CD-MF9AIPYH8"
      }
    },
    {
      "cell_type": "code",
      "source": [
        "rl = LinearRegression()\n",
        "rl.fit(X_train, y_train)"
      ],
      "metadata": {
        "id": "MdDZGGxODaCt",
        "colab": {
          "base_uri": "https://localhost:8080/"
        },
        "outputId": "68943827-ddc8-4a19-9fec-22d2ebc6a2bf"
      },
      "execution_count": null,
      "outputs": [
        {
          "output_type": "execute_result",
          "data": {
            "text/plain": [
              "LinearRegression()"
            ]
          },
          "metadata": {},
          "execution_count": 123
        }
      ]
    },
    {
      "cell_type": "code",
      "source": [
        "r2_score(y_train, rl.predict(X_train))"
      ],
      "metadata": {
        "id": "508ia2k3Ddc3",
        "colab": {
          "base_uri": "https://localhost:8080/"
        },
        "outputId": "49ab94a6-3e20-429b-b770-5b3c73b5ed59"
      },
      "execution_count": null,
      "outputs": [
        {
          "output_type": "execute_result",
          "data": {
            "text/plain": [
              "0.340436420872959"
            ]
          },
          "metadata": {},
          "execution_count": 124
        }
      ]
    },
    {
      "cell_type": "code",
      "source": [
        "r2_score(y_test, rl.predict(X_test))"
      ],
      "metadata": {
        "id": "Y_ajBLbMDfoF",
        "colab": {
          "base_uri": "https://localhost:8080/"
        },
        "outputId": "fb647015-f1c7-47df-da52-f7aaac52af05"
      },
      "execution_count": null,
      "outputs": [
        {
          "output_type": "execute_result",
          "data": {
            "text/plain": [
              "0.34059843605662266"
            ]
          },
          "metadata": {},
          "execution_count": 125
        }
      ]
    },
    {
      "cell_type": "code",
      "source": [
        "\n",
        "pickle.dump(rl, open('linear_regression.sav', 'wb'))"
      ],
      "metadata": {
        "id": "dd94haZUHv8I"
      },
      "execution_count": null,
      "outputs": []
    },
    {
      "cell_type": "code",
      "source": [
        "mean_absolute_error(y_test, rl.predict(X_test))"
      ],
      "metadata": {
        "id": "emDo8H7hDiNm",
        "colab": {
          "base_uri": "https://localhost:8080/"
        },
        "outputId": "53f27554-40f9-4272-8cfa-70878895923e"
      },
      "execution_count": null,
      "outputs": [
        {
          "output_type": "execute_result",
          "data": {
            "text/plain": [
              "0.6769038570140363"
            ]
          },
          "metadata": {},
          "execution_count": 127
        }
      ]
    },
    {
      "cell_type": "code",
      "source": [
        "mean_absolute_error(y_test, rl.predict(X_test))"
      ],
      "metadata": {
        "id": "RNn1XkKGDkA-",
        "colab": {
          "base_uri": "https://localhost:8080/"
        },
        "outputId": "60d3f624-1c60-406b-e2f2-49f84d6a334e"
      },
      "execution_count": null,
      "outputs": [
        {
          "output_type": "execute_result",
          "data": {
            "text/plain": [
              "0.6769038570140363"
            ]
          },
          "metadata": {},
          "execution_count": 128
        }
      ]
    },
    {
      "cell_type": "markdown",
      "source": [
        "#SVR"
      ],
      "metadata": {
        "id": "JdQHw1UkPa5b"
      }
    },
    {
      "cell_type": "code",
      "source": [
        "svr = SVR(kernel=\"poly\",verbose=True) "
      ],
      "metadata": {
        "id": "r2caWBa3DlrX"
      },
      "execution_count": null,
      "outputs": []
    },
    {
      "cell_type": "code",
      "source": [
        "svr.fit(X_train,y_train)"
      ],
      "metadata": {
        "id": "gbe9030HHN7X",
        "colab": {
          "base_uri": "https://localhost:8080/"
        },
        "outputId": "770b471b-0a0a-4e17-a2de-bc4c6c151a5a"
      },
      "execution_count": null,
      "outputs": [
        {
          "output_type": "stream",
          "name": "stdout",
          "text": [
            "[LibSVM]"
          ]
        },
        {
          "output_type": "execute_result",
          "data": {
            "text/plain": [
              "SVR(kernel='poly', verbose=True)"
            ]
          },
          "metadata": {},
          "execution_count": 130
        }
      ]
    },
    {
      "cell_type": "code",
      "source": [
        "svr.score(X_train,y_train)"
      ],
      "metadata": {
        "id": "uKEGLScEYpTg",
        "colab": {
          "base_uri": "https://localhost:8080/"
        },
        "outputId": "a2f1986f-1b27-4109-ebc4-4b787736b109"
      },
      "execution_count": null,
      "outputs": [
        {
          "output_type": "execute_result",
          "data": {
            "text/plain": [
              "0.44068168878881764"
            ]
          },
          "metadata": {},
          "execution_count": 131
        }
      ]
    },
    {
      "cell_type": "code",
      "source": [
        "svr.score(X_test,y_test)"
      ],
      "metadata": {
        "id": "nHotraq_Y2ai",
        "colab": {
          "base_uri": "https://localhost:8080/"
        },
        "outputId": "b9e67c58-2854-48d2-ca15-09898560dfb0"
      },
      "execution_count": null,
      "outputs": [
        {
          "output_type": "execute_result",
          "data": {
            "text/plain": [
              "0.409553818259083"
            ]
          },
          "metadata": {},
          "execution_count": 132
        }
      ]
    },
    {
      "cell_type": "code",
      "source": [
        "\n",
        "pickle.dump(svr, open('svr.sav', 'wb'))"
      ],
      "metadata": {
        "id": "KPP8Fy9CIB-X"
      },
      "execution_count": null,
      "outputs": []
    },
    {
      "cell_type": "code",
      "source": [
        "mean_absolute_error(y_test, svr.predict(X_test))"
      ],
      "metadata": {
        "id": "7vdZsnDPY5h4",
        "colab": {
          "base_uri": "https://localhost:8080/"
        },
        "outputId": "75572751-eafa-474a-83be-661d7cf379c5"
      },
      "execution_count": null,
      "outputs": [
        {
          "output_type": "execute_result",
          "data": {
            "text/plain": [
              "0.6127329126787264"
            ]
          },
          "metadata": {},
          "execution_count": 134
        }
      ]
    },
    {
      "cell_type": "code",
      "source": [
        "mean_absolute_error(y_test, svr.predict(X_test))"
      ],
      "metadata": {
        "id": "aq7FAJ56Y58a",
        "colab": {
          "base_uri": "https://localhost:8080/"
        },
        "outputId": "5a4c3890-c730-4def-9d31-6ef5ac050b97"
      },
      "execution_count": null,
      "outputs": [
        {
          "output_type": "execute_result",
          "data": {
            "text/plain": [
              "0.6127329126787264"
            ]
          },
          "metadata": {},
          "execution_count": 135
        }
      ]
    },
    {
      "cell_type": "markdown",
      "source": [
        "#KNN"
      ],
      "metadata": {
        "id": "uuqliObCPcob"
      }
    },
    {
      "cell_type": "code",
      "source": [
        "error = []\n",
        "for n in range(1,70):\n",
        "  knn = KNeighborsRegressor(n_neighbors=n)\n",
        "  knn.fit(X_train, y_train)\n",
        "  predict_n = knn.predict(X_test)\n",
        "  error.append(np.mean(predict_n != y_test))\n",
        "plt.figure(figsize=(15,10))\n",
        "plt.plot(range(1,70), error, color='b', linestyle = 'dashed', marker = 'o', markerfacecolor = 'r', markersize = '8')"
      ],
      "metadata": {
        "id": "Ir3o6wtCNQp9",
        "colab": {
          "base_uri": "https://localhost:8080/",
          "height": 611
        },
        "outputId": "0ad98a19-7237-43f5-d4f4-d6c75f3e95e0"
      },
      "execution_count": null,
      "outputs": [
        {
          "output_type": "execute_result",
          "data": {
            "text/plain": [
              "[<matplotlib.lines.Line2D at 0x7f1366572b90>]"
            ]
          },
          "metadata": {},
          "execution_count": 136
        },
        {
          "output_type": "display_data",
          "data": {
            "image/png": "[encoded data removed]",
            "text/plain": [
              "<Figure size 1080x720 with 1 Axes>"
            ]
          },
          "metadata": {}
        }
      ]
    },
    {
      "cell_type": "code",
      "source": [
        "knn = KNeighborsRegressor(n_neighbors=1)\n",
        "knn.fit(X_train, y_train)"
      ],
      "metadata": {
        "id": "DstwNGz1Nl8s",
        "colab": {
          "base_uri": "https://localhost:8080/"
        },
        "outputId": "9b871f54-5619-4886-fb10-9084dad8b04f"
      },
      "execution_count": null,
      "outputs": [
        {
          "output_type": "execute_result",
          "data": {
            "text/plain": [
              "KNeighborsRegressor(n_neighbors=1)"
            ]
          },
          "metadata": {},
          "execution_count": 137
        }
      ]
    },
    {
      "cell_type": "code",
      "source": [
        "knn.score(X_train, y_train)"
      ],
      "metadata": {
        "colab": {
          "base_uri": "https://localhost:8080/"
        },
        "id": "mqib6goY4k1R",
        "outputId": "52b0c15f-b3d9-43ea-b993-8b5466b0b23f"
      },
      "execution_count": null,
      "outputs": [
        {
          "output_type": "execute_result",
          "data": {
            "text/plain": [
              "1.0"
            ]
          },
          "metadata": {},
          "execution_count": 138
        }
      ]
    },
    {
      "cell_type": "code",
      "source": [
        "knn.score(X_test, y_test)"
      ],
      "metadata": {
        "colab": {
          "base_uri": "https://localhost:8080/"
        },
        "id": "DDhs3xrq4p4g",
        "outputId": "786f1293-962c-42f8-9d43-1c5093256710"
      },
      "execution_count": null,
      "outputs": [
        {
          "output_type": "execute_result",
          "data": {
            "text/plain": [
              "0.07491832309933066"
            ]
          },
          "metadata": {},
          "execution_count": 139
        }
      ]
    },
    {
      "cell_type": "code",
      "source": [
        "r2_score(y_train, knn.predict(X_train))"
      ],
      "metadata": {
        "id": "l0nrLIM9NpC9",
        "colab": {
          "base_uri": "https://localhost:8080/"
        },
        "outputId": "cffd3ece-8fa6-4f98-cd2d-65f88b4bb8e3"
      },
      "execution_count": null,
      "outputs": [
        {
          "output_type": "execute_result",
          "data": {
            "text/plain": [
              "1.0"
            ]
          },
          "metadata": {},
          "execution_count": 140
        }
      ]
    },
    {
      "cell_type": "code",
      "source": [
        "r2_score(y_test, knn.predict(X_test))"
      ],
      "metadata": {
        "id": "Q9x75VKkNqwk",
        "colab": {
          "base_uri": "https://localhost:8080/"
        },
        "outputId": "da7449d1-795a-4b97-aafb-e7f14cb145ad"
      },
      "execution_count": null,
      "outputs": [
        {
          "output_type": "execute_result",
          "data": {
            "text/plain": [
              "0.07491832309933066"
            ]
          },
          "metadata": {},
          "execution_count": 141
        }
      ]
    },
    {
      "cell_type": "code",
      "source": [
        "mean_absolute_error(y_train, knn.predict(X_train))"
      ],
      "metadata": {
        "id": "iyucAHjGNvU0",
        "colab": {
          "base_uri": "https://localhost:8080/"
        },
        "outputId": "662dec48-f365-4f10-a74d-09df82db73ba"
      },
      "execution_count": null,
      "outputs": [
        {
          "output_type": "execute_result",
          "data": {
            "text/plain": [
              "0.0"
            ]
          },
          "metadata": {},
          "execution_count": 142
        }
      ]
    },
    {
      "cell_type": "code",
      "source": [
        "mean_absolute_error(y_test, knn.predict(X_test))"
      ],
      "metadata": {
        "id": "NTNqnRmwNxbe",
        "colab": {
          "base_uri": "https://localhost:8080/"
        },
        "outputId": "e875bcf8-9973-4936-a34e-5ac99e49655a"
      },
      "execution_count": null,
      "outputs": [
        {
          "output_type": "execute_result",
          "data": {
            "text/plain": [
              "0.6653503893214683"
            ]
          },
          "metadata": {},
          "execution_count": 143
        }
      ]
    },
    {
      "cell_type": "code",
      "source": [
        "\n",
        "pickle.dump(knn, open(\"knn.sav\", 'wb'))"
      ],
      "metadata": {
        "id": "8H6y9kztN7Bk"
      },
      "execution_count": null,
      "outputs": []
    },
    {
      "cell_type": "code",
      "source": [
        ""
      ],
      "metadata": {
        "id": "7YLcVjKxVsnR"
      },
      "execution_count": null,
      "outputs": []
    }
  ]
}